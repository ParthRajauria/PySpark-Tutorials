{
 "cells": [
  {
   "cell_type": "code",
   "execution_count": 1,
   "metadata": {},
   "outputs": [
    {
     "name": "stdout",
     "output_type": "stream",
     "text": [
      "Requirement already satisfied: pyspark in c:\\users\\6thenergy\\anaconda3\\envs\\streamlit_demo\\lib\\site-packages (3.2.1)\n",
      "Requirement already satisfied: py4j==0.10.9.3 in c:\\users\\6thenergy\\anaconda3\\envs\\streamlit_demo\\lib\\site-packages (from pyspark) (0.10.9.3)\n"
     ]
    }
   ],
   "source": [
    "!pip install pyspark"
   ]
  },
  {
   "cell_type": "markdown",
   "metadata": {},
   "source": [
    "### PySpark Handling Missing Values\n",
    "* Dropping Columns\n",
    "* Dropping Rows\n",
    "* Various Parameter in Dropping functionalities\n",
    "* Handling Missing values by Mean"
   ]
  },
  {
   "cell_type": "code",
   "execution_count": 2,
   "metadata": {},
   "outputs": [],
   "source": [
    "import pyspark"
   ]
  },
  {
   "cell_type": "code",
   "execution_count": 3,
   "metadata": {},
   "outputs": [
    {
     "name": "stderr",
     "output_type": "stream",
     "text": [
      "C:\\Users\\6thenergy\\anaconda3\\envs\\streamlit_demo\\lib\\site-packages\\pyspark\\context.py:238: FutureWarning: Python 3.6 support is deprecated in Spark 3.2.\n",
      "  FutureWarning\n"
     ]
    }
   ],
   "source": [
    "from pyspark.sql import SparkSession         # This is how we start spark session.\n",
    "spark = SparkSession.builder.appName('Practise').getOrCreate()      # Starting the session with app name 'Practise'"
   ]
  },
  {
   "cell_type": "code",
   "execution_count": 4,
   "metadata": {},
   "outputs": [
    {
     "data": {
      "text/html": [
       "\n",
       "            <div>\n",
       "                <p><b>SparkSession - in-memory</b></p>\n",
       "                \n",
       "        <div>\n",
       "            <p><b>SparkContext</b></p>\n",
       "\n",
       "            <p><a href=\"http://DESKTOP-2J6UBED:4040\">Spark UI</a></p>\n",
       "\n",
       "            <dl>\n",
       "              <dt>Version</dt>\n",
       "                <dd><code>v3.2.1</code></dd>\n",
       "              <dt>Master</dt>\n",
       "                <dd><code>local[*]</code></dd>\n",
       "              <dt>AppName</dt>\n",
       "                <dd><code>Practise</code></dd>\n",
       "            </dl>\n",
       "        </div>\n",
       "        \n",
       "            </div>\n",
       "        "
      ],
      "text/plain": [
       "<pyspark.sql.session.SparkSession at 0x22224271f28>"
      ]
     },
     "execution_count": 4,
     "metadata": {},
     "output_type": "execute_result"
    }
   ],
   "source": [
    "spark"
   ]
  },
  {
   "cell_type": "code",
   "execution_count": 5,
   "metadata": {},
   "outputs": [],
   "source": [
    "df_pyspark = spark.read.csv('water.csv', header = True, inferSchema = True)\n",
    "df_pyspark_copy = df_pyspark"
   ]
  },
  {
   "cell_type": "code",
   "execution_count": 6,
   "metadata": {},
   "outputs": [
    {
     "name": "stdout",
     "output_type": "stream",
     "text": [
      "+----+-----+\n",
      "|Year|Water|\n",
      "+----+-----+\n",
      "|1885|  356|\n",
      "|1886|  386|\n",
      "|1887|  397|\n",
      "|1888|  397|\n",
      "|1889|  413|\n",
      "|1890|  458|\n",
      "|1891|  485|\n",
      "|1892|  344|\n",
      "|1893|  390|\n",
      "|1894|  360|\n",
      "|1895|  420|\n",
      "|1896|  435|\n",
      "|1897|  439|\n",
      "|1898|  454|\n",
      "|1899|  462|\n",
      "|1900|  454|\n",
      "|1901|  469|\n",
      "|1902|  500|\n",
      "|1903|  492|\n",
      "|1904|  473|\n",
      "+----+-----+\n",
      "only showing top 20 rows\n",
      "\n"
     ]
    }
   ],
   "source": [
    "df_pyspark.show()"
   ]
  },
  {
   "cell_type": "code",
   "execution_count": 7,
   "metadata": {},
   "outputs": [
    {
     "name": "stdout",
     "output_type": "stream",
     "text": [
      "+----+\n",
      "|Year|\n",
      "+----+\n",
      "|1885|\n",
      "|1886|\n",
      "|1887|\n",
      "|1888|\n",
      "|1889|\n",
      "|1890|\n",
      "|1891|\n",
      "|1892|\n",
      "|1893|\n",
      "|1894|\n",
      "|1895|\n",
      "|1896|\n",
      "|1897|\n",
      "|1898|\n",
      "|1899|\n",
      "|1900|\n",
      "|1901|\n",
      "|1902|\n",
      "|1903|\n",
      "|1904|\n",
      "+----+\n",
      "only showing top 20 rows\n",
      "\n"
     ]
    }
   ],
   "source": [
    "## Dropping the Columns\n",
    "df_pyspark.drop('Water').show()"
   ]
  },
  {
   "cell_type": "code",
   "execution_count": 8,
   "metadata": {},
   "outputs": [
    {
     "name": "stdout",
     "output_type": "stream",
     "text": [
      "+----+-----+\n",
      "|Year|Water|\n",
      "+----+-----+\n",
      "|1885|  356|\n",
      "|1886|  386|\n",
      "|1887|  397|\n",
      "|1888|  397|\n",
      "|1889|  413|\n",
      "|1890|  458|\n",
      "|1891|  485|\n",
      "|1892|  344|\n",
      "|1893|  390|\n",
      "|1894|  360|\n",
      "|1895|  420|\n",
      "|1896|  435|\n",
      "|1897|  439|\n",
      "|1898|  454|\n",
      "|1899|  462|\n",
      "|1900|  454|\n",
      "|1901|  469|\n",
      "|1902|  500|\n",
      "|1903|  492|\n",
      "|1904|  473|\n",
      "+----+-----+\n",
      "only showing top 20 rows\n",
      "\n"
     ]
    }
   ],
   "source": [
    "df_pyspark.na.drop().show()    # This will drop those rows where NAN or Null values are present."
   ]
  },
  {
   "cell_type": "code",
   "execution_count": 9,
   "metadata": {},
   "outputs": [
    {
     "name": "stdout",
     "output_type": "stream",
     "text": [
      "+----+-----+\n",
      "|Year|Water|\n",
      "+----+-----+\n",
      "|1885|  356|\n",
      "|1886|  386|\n",
      "|1887|  397|\n",
      "|1888|  397|\n",
      "|1889|  413|\n",
      "|1890|  458|\n",
      "|1891|  485|\n",
      "|1892|  344|\n",
      "|1893|  390|\n",
      "|1894|  360|\n",
      "|1895|  420|\n",
      "|1896|  435|\n",
      "|1897|  439|\n",
      "|1898|  454|\n",
      "|1899|  462|\n",
      "|1900|  454|\n",
      "|1901|  469|\n",
      "|1902|  500|\n",
      "|1903|  492|\n",
      "|1904|  473|\n",
      "+----+-----+\n",
      "only showing top 20 rows\n",
      "\n"
     ]
    }
   ],
   "source": [
    "### any = how\n",
    "df_pyspark.na.drop(how = \"all\").show() # Suppose you have all the col values as null in one or more than one row, only then that row will get dropped."
   ]
  },
  {
   "cell_type": "code",
   "execution_count": 10,
   "metadata": {},
   "outputs": [
    {
     "name": "stdout",
     "output_type": "stream",
     "text": [
      "+----+-----+\n",
      "|Year|Water|\n",
      "+----+-----+\n",
      "|1885|  356|\n",
      "|1886|  386|\n",
      "|1887|  397|\n",
      "|1888|  397|\n",
      "|1889|  413|\n",
      "|1890|  458|\n",
      "|1891|  485|\n",
      "|1892|  344|\n",
      "|1893|  390|\n",
      "|1894|  360|\n",
      "|1895|  420|\n",
      "|1896|  435|\n",
      "|1897|  439|\n",
      "|1898|  454|\n",
      "|1899|  462|\n",
      "|1900|  454|\n",
      "|1901|  469|\n",
      "|1902|  500|\n",
      "|1903|  492|\n",
      "|1904|  473|\n",
      "+----+-----+\n",
      "only showing top 20 rows\n",
      "\n"
     ]
    }
   ],
   "source": [
    "### threshold\n",
    "df_pyspark.na.drop(how = \"any\", thresh = 2).show()  # Means atleast 2 non null values should be there in a row to not get dropped"
   ]
  },
  {
   "cell_type": "code",
   "execution_count": 11,
   "metadata": {},
   "outputs": [
    {
     "name": "stdout",
     "output_type": "stream",
     "text": [
      "+----+-----+\n",
      "|Year|Water|\n",
      "+----+-----+\n",
      "|1885|  356|\n",
      "|1886|  386|\n",
      "|1887|  397|\n",
      "|1888|  397|\n",
      "|1889|  413|\n",
      "|1890|  458|\n",
      "|1891|  485|\n",
      "|1892|  344|\n",
      "|1893|  390|\n",
      "|1894|  360|\n",
      "|1895|  420|\n",
      "|1896|  435|\n",
      "|1897|  439|\n",
      "|1898|  454|\n",
      "|1899|  462|\n",
      "|1900|  454|\n",
      "|1901|  469|\n",
      "|1902|  500|\n",
      "|1903|  492|\n",
      "|1904|  473|\n",
      "+----+-----+\n",
      "only showing top 20 rows\n",
      "\n"
     ]
    }
   ],
   "source": [
    "### subset\n",
    "df_pyspark.na.drop(how = \"any\", subset = ['Water']).show()   # Drop the row if null value is present in 'Water' column."
   ]
  },
  {
   "cell_type": "code",
   "execution_count": 12,
   "metadata": {},
   "outputs": [
    {
     "name": "stdout",
     "output_type": "stream",
     "text": [
      "+----+-----+\n",
      "|Year|Water|\n",
      "+----+-----+\n",
      "|1885|  356|\n",
      "|1886|  386|\n",
      "|1887|  397|\n",
      "|1888|  397|\n",
      "|1889|  413|\n",
      "|1890|  458|\n",
      "|1891|  485|\n",
      "|1892|  344|\n",
      "|1893|  390|\n",
      "|1894|  360|\n",
      "|1895|  420|\n",
      "|1896|  435|\n",
      "|1897|  439|\n",
      "|1898|  454|\n",
      "|1899|  462|\n",
      "|1900|  454|\n",
      "|1901|  469|\n",
      "|1902|  500|\n",
      "|1903|  492|\n",
      "|1904|  473|\n",
      "+----+-----+\n",
      "only showing top 20 rows\n",
      "\n"
     ]
    }
   ],
   "source": [
    "## Filling the Missing values\n",
    "df_pyspark.na.fill('Missing Values').show()     # Wherever there is a Nan or null value, it will replace it with \"Missing Values\""
   ]
  },
  {
   "cell_type": "code",
   "execution_count": 13,
   "metadata": {},
   "outputs": [
    {
     "name": "stdout",
     "output_type": "stream",
     "text": [
      "+----+-----+\n",
      "|Year|Water|\n",
      "+----+-----+\n",
      "|1885|  356|\n",
      "|1886|  386|\n",
      "|1887|  397|\n",
      "|1888|  397|\n",
      "|1889|  413|\n",
      "|1890|  458|\n",
      "|1891|  485|\n",
      "|1892|  344|\n",
      "|1893|  390|\n",
      "|1894|  360|\n",
      "|1895|  420|\n",
      "|1896|  435|\n",
      "|1897|  439|\n",
      "|1898|  454|\n",
      "|1899|  462|\n",
      "|1900|  454|\n",
      "|1901|  469|\n",
      "|1902|  500|\n",
      "|1903|  492|\n",
      "|1904|  473|\n",
      "+----+-----+\n",
      "only showing top 20 rows\n",
      "\n"
     ]
    }
   ],
   "source": [
    "## Filling the Missing values\n",
    "df_pyspark.na.fill('Missing Values', 'Water').show()   # Doing the same thing but only for 'Water' column."
   ]
  },
  {
   "cell_type": "code",
   "execution_count": 14,
   "metadata": {},
   "outputs": [],
   "source": [
    "# Imputer Function in PySpark.\n",
    "from pyspark.ml.feature import Imputer\n",
    "\n",
    "imputer_mean = Imputer(\n",
    "    inputCols = ['Water'],\n",
    "    outputCols = [\"{}_imputed\".format(c) for c in ['Water']]\n",
    "    ).setStrategy(\"mean\")   # This replaces null values in the 'Water' column with mean of water column.\n",
    "\n",
    "imputer_median = Imputer(\n",
    "    inputCols = ['Water'],\n",
    "    outputCols = [\"{}_imputed\".format(c) for c in ['Water']]\n",
    "    ).setStrategy(\"median\")   # This replaces null values in the 'Water' column with median of water column."
   ]
  },
  {
   "cell_type": "code",
   "execution_count": 15,
   "metadata": {},
   "outputs": [
    {
     "name": "stdout",
     "output_type": "stream",
     "text": [
      "+----+-----+-------------+\n",
      "|Year|Water|Water_imputed|\n",
      "+----+-----+-------------+\n",
      "|1885|  356|          356|\n",
      "|1886|  386|          386|\n",
      "|1887|  397|          397|\n",
      "|1888|  397|          397|\n",
      "|1889|  413|          413|\n",
      "|1890|  458|          458|\n",
      "|1891|  485|          485|\n",
      "|1892|  344|          344|\n",
      "|1893|  390|          390|\n",
      "|1894|  360|          360|\n",
      "|1895|  420|          420|\n",
      "|1896|  435|          435|\n",
      "|1897|  439|          439|\n",
      "|1898|  454|          454|\n",
      "|1899|  462|          462|\n",
      "|1900|  454|          454|\n",
      "|1901|  469|          469|\n",
      "|1902|  500|          500|\n",
      "|1903|  492|          492|\n",
      "|1904|  473|          473|\n",
      "+----+-----+-------------+\n",
      "only showing top 20 rows\n",
      "\n"
     ]
    }
   ],
   "source": [
    "# Add imputation cols to df\n",
    "imputer_median.fit(df_pyspark).transform(df_pyspark).show()   "
   ]
  },
  {
   "cell_type": "markdown",
   "metadata": {},
   "source": [
    "## Pyspark Dataframes\n",
    "* Filter Operations\n",
    "* &,|,==\n",
    "* ~"
   ]
  },
  {
   "cell_type": "markdown",
   "metadata": {},
   "source": [
    "#### Filter Operations"
   ]
  },
  {
   "cell_type": "code",
   "execution_count": 16,
   "metadata": {},
   "outputs": [
    {
     "name": "stdout",
     "output_type": "stream",
     "text": [
      "+----+-----+\n",
      "|Year|Water|\n",
      "+----+-----+\n",
      "|1885|  356|\n",
      "|1892|  344|\n",
      "|1894|  360|\n",
      "+----+-----+\n",
      "\n"
     ]
    }
   ],
   "source": [
    "## Finding Water Quantity less than or equal to 380.\n",
    "df_pyspark.filter(\"Water<=380\").show()"
   ]
  },
  {
   "cell_type": "code",
   "execution_count": 17,
   "metadata": {},
   "outputs": [
    {
     "name": "stdout",
     "output_type": "stream",
     "text": [
      "+----+\n",
      "|Year|\n",
      "+----+\n",
      "|1885|\n",
      "|1892|\n",
      "|1894|\n",
      "+----+\n",
      "\n"
     ]
    }
   ],
   "source": [
    "## To do the same thing done above but showing only one column. Do this:-\n",
    "df_pyspark.filter(\"Water<=380\").select(['Year']).show()"
   ]
  },
  {
   "cell_type": "code",
   "execution_count": 18,
   "metadata": {},
   "outputs": [
    {
     "name": "stdout",
     "output_type": "stream",
     "text": [
      "+----+-----+\n",
      "|Year|Water|\n",
      "+----+-----+\n",
      "|1885|  356|\n",
      "|1892|  344|\n",
      "|1894|  360|\n",
      "+----+-----+\n",
      "\n"
     ]
    }
   ],
   "source": [
    "# Different way to get the same output.\n",
    "df_pyspark.filter(df_pyspark['Water']<= 380).show()"
   ]
  },
  {
   "cell_type": "code",
   "execution_count": 22,
   "metadata": {},
   "outputs": [
    {
     "name": "stdout",
     "output_type": "stream",
     "text": [
      "+----+-----+\n",
      "|Year|Water|\n",
      "+----+-----+\n",
      "|1885|  356|\n",
      "|1894|  360|\n",
      "+----+-----+\n",
      "\n",
      "+----+-----+\n",
      "|Year|Water|\n",
      "+----+-----+\n",
      "|1885|  356|\n",
      "|1886|  386|\n",
      "|1887|  397|\n",
      "|1888|  397|\n",
      "|1889|  413|\n",
      "|1890|  458|\n",
      "|1891|  485|\n",
      "|1892|  344|\n",
      "|1893|  390|\n",
      "|1894|  360|\n",
      "|1895|  420|\n",
      "|1896|  435|\n",
      "|1897|  439|\n",
      "|1898|  454|\n",
      "|1899|  462|\n",
      "|1900|  454|\n",
      "|1901|  469|\n",
      "|1902|  500|\n",
      "|1903|  492|\n",
      "|1904|  473|\n",
      "+----+-----+\n",
      "only showing top 20 rows\n",
      "\n"
     ]
    }
   ],
   "source": [
    "# To write multiple conditions\n",
    "df_pyspark.filter((df_pyspark['Water']<= 380) & (df_pyspark['Water']>= 350)).show()\n",
    "df_pyspark.filter((df_pyspark['Water']<= 380) | (df_pyspark['Water']>= 350)).show()"
   ]
  },
  {
   "cell_type": "code",
   "execution_count": 25,
   "metadata": {},
   "outputs": [
    {
     "name": "stdout",
     "output_type": "stream",
     "text": [
      "+----+-----+\n",
      "|Year|Water|\n",
      "+----+-----+\n",
      "|1886|  386|\n",
      "|1887|  397|\n",
      "|1888|  397|\n",
      "|1889|  413|\n",
      "|1890|  458|\n",
      "|1891|  485|\n",
      "|1893|  390|\n",
      "|1895|  420|\n",
      "|1896|  435|\n",
      "|1897|  439|\n",
      "|1898|  454|\n",
      "|1899|  462|\n",
      "|1900|  454|\n",
      "|1901|  469|\n",
      "|1902|  500|\n",
      "|1903|  492|\n",
      "|1904|  473|\n",
      "|1905|  458|\n",
      "|1906|  469|\n",
      "|1907|  481|\n",
      "+----+-----+\n",
      "only showing top 20 rows\n",
      "\n"
     ]
    }
   ],
   "source": [
    "# Using not condition\n",
    "df_pyspark.filter(~(df_pyspark['Water']<= 380)).show()   # THis will show water values greater than 380"
   ]
  },
  {
   "cell_type": "markdown",
   "metadata": {},
   "source": [
    "## PySpark GroupBY and Aggregate Functions.\n"
   ]
  },
  {
   "cell_type": "code",
   "execution_count": 26,
   "metadata": {},
   "outputs": [
    {
     "name": "stdout",
     "output_type": "stream",
     "text": [
      "root\n",
      " |-- Year: integer (nullable = true)\n",
      " |-- Water: integer (nullable = true)\n",
      "\n"
     ]
    }
   ],
   "source": [
    "df_pyspark.printSchema()"
   ]
  },
  {
   "cell_type": "code",
   "execution_count": 31,
   "metadata": {},
   "outputs": [
    {
     "name": "stdout",
     "output_type": "stream",
     "text": [
      "+-----+---------+----------+\n",
      "|Water|sum(Year)|sum(Water)|\n",
      "+-----+---------+----------+\n",
      "|  458|     5724|      1374|\n",
      "|  481|     1907|       481|\n",
      "|  613|     3911|      1226|\n",
      "|  530|     1912|       530|\n",
      "|  587|     9734|      2935|\n",
      "|  606|     1945|       606|\n",
      "|  602|     1958|       602|\n",
      "|  625|     1962|       625|\n",
      "|  360|     1894|       360|\n",
      "|  386|     1886|       386|\n",
      "|  435|     1896|       435|\n",
      "|  473|     3815|       946|\n",
      "|  500|     3839|      1000|\n",
      "|  432|     3855|       864|\n",
      "|  397|     3775|       794|\n",
      "|  579|     1956|       579|\n",
      "|  598|     1949|       598|\n",
      "|  462|     5739|      1386|\n",
      "|  564|     1951|       564|\n",
      "|  609|     1944|       609|\n",
      "+-----+---------+----------+\n",
      "only showing top 20 rows\n",
      "\n"
     ]
    }
   ],
   "source": [
    "## GroupBy\n",
    "# Note that groupBy function always work together with an Aggregate function, alone it doesn't make sense.\n",
    "df_pyspark.groupBy('Water').sum().show()"
   ]
  },
  {
   "cell_type": "code",
   "execution_count": 33,
   "metadata": {},
   "outputs": [
    {
     "name": "stdout",
     "output_type": "stream",
     "text": [
      "+-----+-----+\n",
      "|Water|count|\n",
      "+-----+-----+\n",
      "|  458|    3|\n",
      "|  481|    1|\n",
      "|  613|    2|\n",
      "|  530|    1|\n",
      "|  587|    5|\n",
      "|  606|    1|\n",
      "|  602|    1|\n",
      "|  625|    1|\n",
      "|  360|    1|\n",
      "|  386|    1|\n",
      "|  435|    1|\n",
      "|  473|    2|\n",
      "|  500|    2|\n",
      "|  432|    2|\n",
      "|  397|    2|\n",
      "|  579|    1|\n",
      "|  598|    1|\n",
      "|  462|    3|\n",
      "|  564|    1|\n",
      "|  609|    1|\n",
      "+-----+-----+\n",
      "only showing top 20 rows\n",
      "\n",
      "+----+-----+\n",
      "|Year|count|\n",
      "+----+-----+\n",
      "|1959|    1|\n",
      "|1896|    1|\n",
      "|1903|    1|\n",
      "|1888|    1|\n",
      "|1924|    1|\n",
      "|1892|    1|\n",
      "|1889|    1|\n",
      "|1927|    1|\n",
      "|1955|    1|\n",
      "|1890|    1|\n",
      "|1908|    1|\n",
      "|1925|    1|\n",
      "|1886|    1|\n",
      "|1961|    1|\n",
      "|1942|    1|\n",
      "|1939|    1|\n",
      "|1944|    1|\n",
      "|1899|    1|\n",
      "|1902|    1|\n",
      "|1922|    1|\n",
      "+----+-----+\n",
      "only showing top 20 rows\n",
      "\n"
     ]
    }
   ],
   "source": [
    "## GroupBy\n",
    "df_pyspark.groupBy('Water').count().show()\n",
    "df_pyspark.groupBy('Year').count().show()"
   ]
  },
  {
   "cell_type": "code",
   "execution_count": 34,
   "metadata": {},
   "outputs": [
    {
     "name": "stdout",
     "output_type": "stream",
     "text": [
      "+---------+\n",
      "|sum(Year)|\n",
      "+---------+\n",
      "|   151996|\n",
      "+---------+\n",
      "\n"
     ]
    }
   ],
   "source": [
    "# Aggregate\n",
    "df_pyspark.agg({'Year':'sum'}).show()"
   ]
  },
  {
   "cell_type": "code",
   "execution_count": null,
   "metadata": {},
   "outputs": [],
   "source": []
  }
 ],
 "metadata": {
  "kernelspec": {
   "display_name": "Python 3",
   "language": "python",
   "name": "python3"
  },
  "language_info": {
   "codemirror_mode": {
    "name": "ipython",
    "version": 3
   },
   "file_extension": ".py",
   "mimetype": "text/x-python",
   "name": "python",
   "nbconvert_exporter": "python",
   "pygments_lexer": "ipython3",
   "version": "3.6.10"
  }
 },
 "nbformat": 4,
 "nbformat_minor": 4
}
