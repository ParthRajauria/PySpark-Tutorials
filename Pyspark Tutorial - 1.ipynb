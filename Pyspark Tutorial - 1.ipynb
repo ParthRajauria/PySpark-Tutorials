{
 "cells": [
  {
   "cell_type": "code",
   "execution_count": 2,
   "metadata": {},
   "outputs": [
    {
     "name": "stdout",
     "output_type": "stream",
     "text": [
      "Collecting pyspark\n",
      "  Using cached pyspark-3.2.1.tar.gz (281.4 MB)\n",
      "Collecting py4j==0.10.9.3\n",
      "  Using cached py4j-0.10.9.3-py2.py3-none-any.whl (198 kB)\n",
      "Building wheels for collected packages: pyspark\n",
      "  Building wheel for pyspark (setup.py): started\n",
      "  Building wheel for pyspark (setup.py): finished with status 'done'\n",
      "  Created wheel for pyspark: filename=pyspark-3.2.1-py2.py3-none-any.whl size=281853650 sha256=b42c4d5680d1201022044327102691b108c4c541255ef2ce4c51eec53a21468e\n",
      "  Stored in directory: c:\\users\\6thenergy\\appdata\\local\\pip\\cache\\wheels\\bc\\fa\\63\\f112e9bf64fa59f349f9d37b48b70911435dc532ff49cffddc\n",
      "Successfully built pyspark\n",
      "Installing collected packages: py4j, pyspark\n",
      "Successfully installed py4j-0.10.9.3 pyspark-3.2.1\n"
     ]
    }
   ],
   "source": [
    "!pip install pyspark"
   ]
  },
  {
   "cell_type": "markdown",
   "metadata": {},
   "source": [
    "# PySpark Basic"
   ]
  },
  {
   "cell_type": "code",
   "execution_count": 3,
   "metadata": {},
   "outputs": [],
   "source": [
    "import pyspark\n"
   ]
  },
  {
   "cell_type": "code",
   "execution_count": 5,
   "metadata": {},
   "outputs": [
    {
     "name": "stdout",
     "output_type": "stream",
     "text": [
      "                     SiteName  deviceId  SubUnitId SubUnitname  \\\n",
      "0     RJ_6803_Abu_Road_Sirohi     22506          1    EB Meter   \n",
      "1     RJ_6803_Abu_Road_Sirohi     22506          1    EB Meter   \n",
      "2     RJ_6803_Abu_Road_Sirohi     22506          1    EB Meter   \n",
      "3     RJ_6803_Abu_Road_Sirohi     22506          1    EB Meter   \n",
      "4     RJ_6803_Abu_Road_Sirohi     22506          1    EB Meter   \n",
      "...                       ...       ...        ...         ...   \n",
      "4514  RJ_6803_Abu_Road_Sirohi     22506          1    EB Meter   \n",
      "4515  RJ_6803_Abu_Road_Sirohi     22506          1    EB Meter   \n",
      "4516  RJ_6803_Abu_Road_Sirohi     22506          1    EB Meter   \n",
      "4517  RJ_6803_Abu_Road_Sirohi     22506          1    EB Meter   \n",
      "4518  RJ_6803_Abu_Road_Sirohi     22506          1    EB Meter   \n",
      "\n",
      "     SmokeAlertStatus  HarmonicsR1  HarmonicsR3  HarmonicsR5  HarmonicsR7  \\\n",
      "0              Before        2.360        0.274        0.399        0.227   \n",
      "1              Before        2.371        0.277        0.392        0.226   \n",
      "2              Before        2.353        0.273        0.385        0.228   \n",
      "3              Before        2.357        0.278        0.388        0.219   \n",
      "4              Before        2.324        0.283        0.386        0.209   \n",
      "...               ...          ...          ...          ...          ...   \n",
      "4514            After        0.170        0.012        0.008        0.014   \n",
      "4515            After        0.000        0.000        0.000        0.000   \n",
      "4516            After        0.000        0.000        0.000        0.000   \n",
      "4517            After        0.000        0.000        0.000        0.000   \n",
      "4518            After        0.000        0.000        0.000        0.000   \n",
      "\n",
      "      HarmonicsR9  ...  HarmonicsN11  HarmonicsN13  HarmonicsN15  THD_AV  \\\n",
      "0           0.158  ...         0.004         0.059         0.018   1.423   \n",
      "1           0.163  ...         0.009         0.085         0.025   1.479   \n",
      "2           0.163  ...         0.011         0.081         0.024   1.743   \n",
      "3           0.173  ...         0.146         0.078         0.019   1.579   \n",
      "4           0.155  ...         0.203         0.103         0.029   1.984   \n",
      "...           ...  ...           ...           ...           ...     ...   \n",
      "4514        0.034  ...         0.094         0.026         0.054   1.978   \n",
      "4515        0.000  ...         0.000         0.000         0.000   0.000   \n",
      "4516        0.000  ...         0.000         0.000         0.000   0.000   \n",
      "4517        0.000  ...         0.000         0.000         0.000   0.000   \n",
      "4518        0.000  ...         0.000         0.000         0.000   0.000   \n",
      "\n",
      "       THD_AI  THD_BV  THD_BI  THD_CV   THD_VI       Timestamp  \n",
      "0      26.160   1.113   4.718   1.022  104.763   7/4/2020 0:04  \n",
      "1      26.241   1.130   4.528   0.900  104.844   7/4/2020 0:35  \n",
      "2      26.076   0.954   5.421   1.124  109.822   7/4/2020 1:04  \n",
      "3      26.142   1.315  35.795   1.113  110.852   7/4/2020 1:35  \n",
      "4      25.968   1.738  24.864   1.374  114.228   7/4/2020 2:05  \n",
      "...       ...     ...     ...     ...      ...             ...  \n",
      "4514  123.767   2.025  54.756   1.289   66.354  9/6/2020 23:04  \n",
      "4515    0.000   0.000   0.000   0.000    0.000  9/6/2020 23:07  \n",
      "4516    0.000   0.000   0.000   0.000    0.000  9/6/2020 23:09  \n",
      "4517    0.000   0.000   0.000   0.000    0.000  9/6/2020 23:40  \n",
      "4518    0.000   0.000   0.000   0.000    0.000  9/6/2020 23:41  \n",
      "\n",
      "[4519 rows x 44 columns]\n"
     ]
    }
   ],
   "source": [
    "import pandas as pd\n",
    "df = pd.read_csv('22506_harmonicdata.csv')\n",
    "print(df)"
   ]
  },
  {
   "cell_type": "code",
   "execution_count": 6,
   "metadata": {},
   "outputs": [],
   "source": [
    "# While working with PySpark, we must first start a spark session. \n",
    "\n",
    "from pyspark.sql import SparkSession         # This is how we start spark session."
   ]
  },
  {
   "cell_type": "code",
   "execution_count": 7,
   "metadata": {},
   "outputs": [
    {
     "name": "stderr",
     "output_type": "stream",
     "text": [
      "C:\\Users\\6thenergy\\anaconda3\\envs\\streamlit_demo\\lib\\site-packages\\pyspark\\context.py:238: FutureWarning: Python 3.6 support is deprecated in Spark 3.2.\n",
      "  FutureWarning\n"
     ]
    }
   ],
   "source": [
    "spark = SparkSession.builder.appName('Practise').getOrCreate()      # Starting the session with app name 'Practise'"
   ]
  },
  {
   "cell_type": "code",
   "execution_count": 8,
   "metadata": {},
   "outputs": [
    {
     "data": {
      "text/html": [
       "\n",
       "            <div>\n",
       "                <p><b>SparkSession - in-memory</b></p>\n",
       "                \n",
       "        <div>\n",
       "            <p><b>SparkContext</b></p>\n",
       "\n",
       "            <p><a href=\"http://DESKTOP-2J6UBED:4040\">Spark UI</a></p>\n",
       "\n",
       "            <dl>\n",
       "              <dt>Version</dt>\n",
       "                <dd><code>v3.2.1</code></dd>\n",
       "              <dt>Master</dt>\n",
       "                <dd><code>local[*]</code></dd>\n",
       "              <dt>AppName</dt>\n",
       "                <dd><code>Practise</code></dd>\n",
       "            </dl>\n",
       "        </div>\n",
       "        \n",
       "            </div>\n",
       "        "
      ],
      "text/plain": [
       "<pyspark.sql.session.SparkSession at 0x220ff3b3898>"
      ]
     },
     "execution_count": 8,
     "metadata": {},
     "output_type": "execute_result"
    }
   ],
   "source": [
    "spark"
   ]
  },
  {
   "cell_type": "code",
   "execution_count": 9,
   "metadata": {},
   "outputs": [],
   "source": [
    "# Reading a dataset with Pyspark\n",
    "df_pyspark = spark.read.csv('22506_harmonicdata.csv')"
   ]
  },
  {
   "cell_type": "code",
   "execution_count": 11,
   "metadata": {},
   "outputs": [
    {
     "name": "stdout",
     "output_type": "stream",
     "text": [
      "+--------------------+--------+---------+-----------+----------------+-----------+-----------+-----------+-----------+-----------+------------+------------+------------+-----------+-----------+-----------+-----------+-----------+------------+------------+------------+-----------+-----------+-----------+-----------+-----------+------------+------------+------------+-----------+-----------+-----------+-----------+-----------+------------+------------+------------+------+------+------+------+------+-------+-------------+\n",
      "|                 _c0|     _c1|      _c2|        _c3|             _c4|        _c5|        _c6|        _c7|        _c8|        _c9|        _c10|        _c11|        _c12|       _c13|       _c14|       _c15|       _c16|       _c17|        _c18|        _c19|        _c20|       _c21|       _c22|       _c23|       _c24|       _c25|        _c26|        _c27|        _c28|       _c29|       _c30|       _c31|       _c32|       _c33|        _c34|        _c35|        _c36|  _c37|  _c38|  _c39|  _c40|  _c41|   _c42|         _c43|\n",
      "+--------------------+--------+---------+-----------+----------------+-----------+-----------+-----------+-----------+-----------+------------+------------+------------+-----------+-----------+-----------+-----------+-----------+------------+------------+------------+-----------+-----------+-----------+-----------+-----------+------------+------------+------------+-----------+-----------+-----------+-----------+-----------+------------+------------+------------+------+------+------+------+------+-------+-------------+\n",
      "|            SiteName|deviceId|SubUnitId|SubUnitname|SmokeAlertStatus|HarmonicsR1|HarmonicsR3|HarmonicsR5|HarmonicsR7|HarmonicsR9|HarmonicsR11|HarmonicsR13|HarmonicsR15|HarmonicsY1|HarmonicsY3|HarmonicsY5|HarmonicsY7|HarmonicsY9|HarmonicsY11|HarmonicsY13|HarmonicsY15|HarmonicsB1|HarmonicsB3|HarmonicsB5|HarmonicsB7|HarmonicsB9|HarmonicsB11|HarmonicsB13|HarmonicsB15|HarmonicsN1|HarmonicsN3|HarmonicsN5|HarmonicsN7|HarmonicsN9|HarmonicsN11|HarmonicsN13|HarmonicsN15|THD_AV|THD_AI|THD_BV|THD_BI|THD_CV| THD_VI|    Timestamp|\n",
      "|RJ_6803_Abu_Road_...|   22506|        1|   EB Meter|          Before|       2.36|      0.274|      0.399|      0.227|      0.158|        0.06|       0.098|       0.042|      5.927|      0.159|      0.111|      0.104|      0.083|       0.053|       0.055|       0.041|      0.052|      0.011|      0.006|      0.003|      0.005|       0.006|       0.003|       0.002|      4.763|      0.128|      0.476|      0.256|      0.122|       0.004|       0.059|       0.018| 1.423| 26.16| 1.113| 4.718| 1.022|104.763|7/4/2020 0:04|\n",
      "|RJ_6803_Abu_Road_...|   22506|        1|   EB Meter|          Before|      2.371|      0.277|      0.392|      0.226|      0.163|       0.069|       0.108|       0.046|      5.801|      0.161|      0.096|      0.096|      0.079|       0.055|       0.043|       0.036|      0.053|      0.011|      0.005|      0.003|      0.005|       0.005|       0.004|       0.002|      4.648|      0.125|      0.464|      0.257|      0.124|       0.009|       0.085|       0.025| 1.479|26.241|  1.13| 4.528|   0.9|104.844|7/4/2020 0:35|\n",
      "|RJ_6803_Abu_Road_...|   22506|        1|   EB Meter|          Before|      2.353|      0.273|      0.385|      0.228|      0.163|       0.072|       0.099|       0.045|      5.406|      0.192|      0.106|      0.098|      0.076|       0.059|       0.046|       0.034|      0.051|      0.012|      0.005|      0.002|      0.004|       0.003|       0.003|       0.002|      4.474|       0.09|      0.458|      0.244|      0.123|       0.011|       0.081|       0.024| 1.743|26.076| 0.954| 5.421| 1.124|109.822|7/4/2020 1:04|\n",
      "|RJ_6803_Abu_Road_...|   22506|        1|   EB Meter|          Before|      2.357|      0.278|      0.388|      0.219|      0.173|       0.078|       0.101|       0.045|      2.839|      0.757|      0.262|       0.32|      0.113|        0.08|       0.039|       0.047|       0.05|      0.009|      0.001|      0.004|      0.007|       0.006|       0.003|       0.002|      1.872|      0.759|      0.483|      0.137|      0.265|       0.146|       0.078|       0.019| 1.579|26.142| 1.315|35.795| 1.113|110.852|7/4/2020 1:35|\n",
      "|RJ_6803_Abu_Road_...|   22506|        1|   EB Meter|          Before|      2.324|      0.283|      0.386|      0.209|      0.155|       0.088|       0.066|       0.039|      3.795|      0.783|      0.324|      0.328|      0.073|       0.117|       0.034|       0.062|      0.054|      0.013|      0.004|      0.003|      0.007|       0.008|       0.004|       0.005|      2.888|      0.831|      0.637|      0.131|      0.169|       0.203|       0.103|       0.029| 1.984|25.968| 1.738|24.864| 1.374|114.228|7/4/2020 2:05|\n",
      "|RJ_6803_Abu_Road_...|   22506|        1|   EB Meter|          Before|      2.338|      0.289|      0.395|      0.221|      0.166|       0.085|       0.077|       0.034|      3.869|      0.788|      0.355|      0.338|      0.085|       0.116|       0.047|       0.061|      0.054|      0.013|      0.005|      0.003|      0.008|       0.007|       0.006|       0.006|      2.967|       0.84|      0.658|      0.131|      0.167|       0.188|       0.105|       0.034| 1.629|26.885| 1.574|24.764| 1.095|113.401|7/4/2020 2:35|\n",
      "|RJ_6803_Abu_Road_...|   22506|        1|   EB Meter|          Before|      2.128|      0.291|      0.417|      0.199|       0.17|       0.091|       0.077|       0.011|      4.214|      0.807|      0.357|      0.333|      0.081|       0.117|       0.045|       0.061|      0.058|      0.011|      0.005|      0.003|      0.007|       0.007|       0.006|       0.005|       3.06|      0.837|      0.659|      0.142|      0.174|       0.191|       0.104|       0.035| 1.813|29.408| 1.666| 23.05|  0.95|107.145|7/4/2020 3:07|\n",
      "|RJ_6803_Abu_Road_...|   22506|        1|   EB Meter|          Before|      2.094|      0.296|      0.418|      0.201|      0.157|       0.082|       0.078|       0.023|       3.84|      0.804|      0.351|      0.335|      0.075|       0.105|       0.044|       0.062|      0.051|      0.012|      0.005|      0.005|      0.006|       0.005|       0.005|       0.004|      3.071|      0.814|      0.657|      0.136|      0.183|       0.178|       0.109|       0.045|  1.73|30.834| 1.445|25.166| 1.175|110.753|7/4/2020 3:36|\n",
      "|RJ_6803_Abu_Road_...|   22506|        1|   EB Meter|          Before|      2.063|      0.291|      0.403|      0.186|      0.162|       0.088|        0.08|       0.039|      4.214|       0.77|       0.32|      0.332|      0.078|        0.11|       0.042|       0.061|      0.056|      0.012|      0.005|      0.005|      0.007|       0.007|       0.007|       0.004|      3.077|      0.815|      0.636|      0.161|      0.173|       0.169|       0.115|       0.052| 1.544|31.046| 1.386|21.984| 1.172|103.694|7/4/2020 4:06|\n",
      "|RJ_6803_Abu_Road_...|   22506|        1|   EB Meter|          Before|      2.088|      0.316|      0.405|      0.192|      0.177|       0.131|       0.113|       0.056|      4.185|      0.773|      0.334|      0.321|      0.076|       0.131|       0.036|       0.064|      0.057|      0.011|      0.004|      0.002|      0.009|       0.004|       0.005|       0.009|      3.068|      0.779|      0.626|      0.145|      0.177|       0.231|       0.124|       0.018| 1.905|31.071| 1.554|22.247| 0.687|101.061|7/4/2020 4:37|\n",
      "|RJ_6803_Abu_Road_...|   22506|        1|   EB Meter|          Before|      2.073|      0.299|      0.405|      0.203|      0.165|       0.087|       0.087|       0.049|       3.72|      0.719|      0.286|      0.306|      0.062|       0.121|       0.023|       0.064|      0.049|      0.012|      0.002|      0.005|      0.005|       0.008|       0.004|       0.007|      2.972|      0.672|      0.602|      0.119|      0.172|       0.195|       0.111|       0.057| 1.726|30.927| 1.682| 23.24| 1.304|115.598|7/4/2020 5:06|\n",
      "|RJ_6803_Abu_Road_...|   22506|        1|   EB Meter|          Before|      2.088|      0.301|       0.42|      0.201|      0.164|         0.1|       0.091|       0.047|      4.129|      0.775|      0.317|      0.309|       0.06|       0.109|       0.038|       0.064|      0.054|      0.011|      0.002|      0.003|      0.005|       0.007|       0.005|       0.007|      3.048|      0.733|      0.609|       0.11|      0.174|       0.178|       0.102|       0.069| 2.181|31.204| 1.624| 22.34| 1.222|  103.5|7/4/2020 5:31|\n",
      "|RJ_6803_Abu_Road_...|   22506|        1|   EB Meter|          Before|      2.081|       0.29|      0.406|      0.195|      0.159|       0.093|       0.064|       0.037|      4.553|      0.339|      0.257|      0.169|      0.172|       0.022|       0.063|       0.041|      0.058|      0.012|      0.003|      0.001|      0.009|       0.004|       0.003|       0.006|      3.442|      0.418|      0.524|      0.069|       0.25|        0.09|       0.049|       0.035| 1.823|30.437| 1.552|11.369| 0.361|101.648|7/4/2020 6:02|\n",
      "|RJ_6803_Abu_Road_...|   22506|        1|   EB Meter|          Before|      1.922|      0.311|      0.436|      0.176|      0.165|       0.073|       0.051|       0.034|      4.224|      0.277|      0.264|      0.156|      0.184|       0.019|       0.059|       0.035|      0.052|       0.01|      0.004|      0.001|      0.006|       0.004|       0.004|       0.003|      3.473|      0.357|      0.594|      0.007|      0.199|       0.068|       0.073|       0.021| 1.411|32.764| 1.279|11.377| 1.107|138.634|7/4/2020 6:32|\n",
      "|RJ_6803_Abu_Road_...|   22506|        1|   EB Meter|          Before|      1.937|      0.309|      0.441|      0.176|      0.164|       0.068|        0.05|       0.037|      4.622|      0.269|      0.261|      0.138|      0.175|       0.009|        0.06|       0.041|      0.056|      0.011|      0.004|      0.001|      0.006|       0.004|       0.003|       0.003|      3.599|      0.376|      0.596|      0.032|      0.219|       0.074|       0.078|       0.014| 1.328|32.209| 1.334| 9.905| 1.507|122.618|7/4/2020 6:50|\n",
      "|RJ_6803_Abu_Road_...|   22506|        1|   EB Meter|          Before|      1.937|      0.309|      0.441|      0.176|      0.164|       0.068|        0.05|       0.037|      4.622|      0.269|      0.261|      0.138|      0.175|       0.009|        0.06|       0.041|      0.056|      0.011|      0.004|      0.001|      0.006|       0.004|       0.003|       0.003|      3.599|      0.376|      0.596|      0.032|      0.219|       0.074|       0.078|       0.014| 1.328|32.209| 1.334| 9.905| 1.507|122.618|7/4/2020 6:52|\n",
      "|RJ_6803_Abu_Road_...|   22506|        1|   EB Meter|          Before|      1.893|      0.306|      0.432|      0.183|      0.166|       0.062|       0.057|       0.032|      4.631|      0.264|      0.243|      0.146|      0.175|       0.011|        0.06|       0.034|      0.057|      0.011|      0.004|      0.001|      0.006|       0.004|       0.003|       0.002|       3.61|      0.356|      0.568|      0.037|       0.21|       0.075|       0.086|       0.011| 0.689|34.293| 1.278|  9.64| 1.033|119.964|7/4/2020 7:15|\n",
      "|RJ_6803_Abu_Road_...|   22506|        1|   EB Meter|          Before|      1.466|      0.239|      0.337|      0.143|      0.136|       0.044|       0.037|       0.023|        5.6|      0.194|      0.098|      0.077|      0.089|       0.054|       0.053|       0.039|      0.057|      0.012|      0.008|      0.003|      0.004|       0.002|       0.003|       0.002|      4.672|      0.139|       0.51|      0.199|      0.121|       0.007|        0.08|       0.028| 1.069|33.432| 1.103| 4.986| 0.838|113.385|7/4/2020 7:44|\n",
      "|RJ_6803_Abu_Road_...|   22506|        1|   EB Meter|          Before|      0.412|      0.047|       0.06|      0.035|      0.038|       0.007|       0.013|       0.015|      6.003|      0.158|      0.101|      0.072|      0.087|       0.065|       0.052|       0.034|      0.059|      0.009|      0.007|      0.004|      0.006|       0.006|       0.004|       0.002|       4.92|      0.155|      0.503|      0.199|      0.126|       0.014|       0.087|       0.034| 0.723|41.956| 1.102|  4.16| 0.256|110.208|7/4/2020 8:16|\n",
      "+--------------------+--------+---------+-----------+----------------+-----------+-----------+-----------+-----------+-----------+------------+------------+------------+-----------+-----------+-----------+-----------+-----------+------------+------------+------------+-----------+-----------+-----------+-----------+-----------+------------+------------+------------+-----------+-----------+-----------+-----------+-----------+------------+------------+------------+------+------+------+------+------+-------+-------------+\n",
      "only showing top 20 rows\n",
      "\n"
     ]
    }
   ],
   "source": [
    "df_pyspark.show()"
   ]
  },
  {
   "cell_type": "code",
   "execution_count": 20,
   "metadata": {},
   "outputs": [],
   "source": [
    "df_pyspark = spark.read.option('header', 'true').csv('22506_harmonicdata.csv')            # Now first row values will be considered as header. "
   ]
  },
  {
   "cell_type": "code",
   "execution_count": 21,
   "metadata": {},
   "outputs": [],
   "source": [
    "df_pyspark = spark.read.option('header', 'true').csv('22506_harmonicdata.csv', inferSchema = True)            # Now first row values will be considered as header. "
   ]
  },
  {
   "cell_type": "markdown",
   "metadata": {},
   "source": [
    "If we don't provide inferSchema then all the columns datatype will be considered as string only."
   ]
  },
  {
   "cell_type": "code",
   "execution_count": 22,
   "metadata": {},
   "outputs": [
    {
     "data": {
      "text/plain": [
       "pyspark.sql.dataframe.DataFrame"
      ]
     },
     "execution_count": 22,
     "metadata": {},
     "output_type": "execute_result"
    }
   ],
   "source": [
    "type(df_pyspark)          # Observe the dataframe type, this is not like our pandas dataframe type. "
   ]
  },
  {
   "cell_type": "code",
   "execution_count": 23,
   "metadata": {},
   "outputs": [
    {
     "data": {
      "text/plain": [
       "[Row(SiteName='RJ_6803_Abu_Road_Sirohi', deviceId=22506, SubUnitId=1, SubUnitname='EB Meter', SmokeAlertStatus='Before', HarmonicsR1=2.36, HarmonicsR3=0.274, HarmonicsR5=0.399, HarmonicsR7=0.227, HarmonicsR9=0.158, HarmonicsR11=0.06, HarmonicsR13=0.098, HarmonicsR15=0.042, HarmonicsY1=5.927, HarmonicsY3=0.159, HarmonicsY5=0.111, HarmonicsY7=0.104, HarmonicsY9=0.083, HarmonicsY11=0.053, HarmonicsY13=0.055, HarmonicsY15=0.041, HarmonicsB1=0.052, HarmonicsB3=0.011, HarmonicsB5=0.006, HarmonicsB7=0.003, HarmonicsB9=0.005, HarmonicsB11=0.006, HarmonicsB13=0.003, HarmonicsB15=0.002, HarmonicsN1=4.763, HarmonicsN3=0.128, HarmonicsN5=0.476, HarmonicsN7=0.256, HarmonicsN9=0.122, HarmonicsN11=0.004, HarmonicsN13=0.059, HarmonicsN15=0.018, THD_AV=1.423, THD_AI=26.16, THD_BV=1.113, THD_BI=4.718, THD_CV=1.022, THD_VI=104.763, Timestamp='7/4/2020 0:04'),\n",
       " Row(SiteName='RJ_6803_Abu_Road_Sirohi', deviceId=22506, SubUnitId=1, SubUnitname='EB Meter', SmokeAlertStatus='Before', HarmonicsR1=2.371, HarmonicsR3=0.277, HarmonicsR5=0.392, HarmonicsR7=0.226, HarmonicsR9=0.163, HarmonicsR11=0.069, HarmonicsR13=0.108, HarmonicsR15=0.046, HarmonicsY1=5.801, HarmonicsY3=0.161, HarmonicsY5=0.096, HarmonicsY7=0.096, HarmonicsY9=0.079, HarmonicsY11=0.055, HarmonicsY13=0.043, HarmonicsY15=0.036, HarmonicsB1=0.053, HarmonicsB3=0.011, HarmonicsB5=0.005, HarmonicsB7=0.003, HarmonicsB9=0.005, HarmonicsB11=0.005, HarmonicsB13=0.004, HarmonicsB15=0.002, HarmonicsN1=4.648, HarmonicsN3=0.125, HarmonicsN5=0.464, HarmonicsN7=0.257, HarmonicsN9=0.124, HarmonicsN11=0.009, HarmonicsN13=0.085, HarmonicsN15=0.025, THD_AV=1.479, THD_AI=26.241, THD_BV=1.13, THD_BI=4.528, THD_CV=0.9, THD_VI=104.844, Timestamp='7/4/2020 0:35'),\n",
       " Row(SiteName='RJ_6803_Abu_Road_Sirohi', deviceId=22506, SubUnitId=1, SubUnitname='EB Meter', SmokeAlertStatus='Before', HarmonicsR1=2.353, HarmonicsR3=0.273, HarmonicsR5=0.385, HarmonicsR7=0.228, HarmonicsR9=0.163, HarmonicsR11=0.072, HarmonicsR13=0.099, HarmonicsR15=0.045, HarmonicsY1=5.406, HarmonicsY3=0.192, HarmonicsY5=0.106, HarmonicsY7=0.098, HarmonicsY9=0.076, HarmonicsY11=0.059, HarmonicsY13=0.046, HarmonicsY15=0.034, HarmonicsB1=0.051, HarmonicsB3=0.012, HarmonicsB5=0.005, HarmonicsB7=0.002, HarmonicsB9=0.004, HarmonicsB11=0.003, HarmonicsB13=0.003, HarmonicsB15=0.002, HarmonicsN1=4.474, HarmonicsN3=0.09, HarmonicsN5=0.458, HarmonicsN7=0.244, HarmonicsN9=0.123, HarmonicsN11=0.011, HarmonicsN13=0.081, HarmonicsN15=0.024, THD_AV=1.743, THD_AI=26.076, THD_BV=0.954, THD_BI=5.421, THD_CV=1.124, THD_VI=109.822, Timestamp='7/4/2020 1:04')]"
      ]
     },
     "execution_count": 23,
     "metadata": {},
     "output_type": "execute_result"
    }
   ],
   "source": [
    "df_pyspark.head(3)"
   ]
  },
  {
   "cell_type": "code",
   "execution_count": 24,
   "metadata": {},
   "outputs": [
    {
     "name": "stdout",
     "output_type": "stream",
     "text": [
      "root\n",
      " |-- SiteName: string (nullable = true)\n",
      " |-- deviceId: integer (nullable = true)\n",
      " |-- SubUnitId: integer (nullable = true)\n",
      " |-- SubUnitname: string (nullable = true)\n",
      " |-- SmokeAlertStatus: string (nullable = true)\n",
      " |-- HarmonicsR1: double (nullable = true)\n",
      " |-- HarmonicsR3: double (nullable = true)\n",
      " |-- HarmonicsR5: double (nullable = true)\n",
      " |-- HarmonicsR7: double (nullable = true)\n",
      " |-- HarmonicsR9: double (nullable = true)\n",
      " |-- HarmonicsR11: double (nullable = true)\n",
      " |-- HarmonicsR13: double (nullable = true)\n",
      " |-- HarmonicsR15: double (nullable = true)\n",
      " |-- HarmonicsY1: double (nullable = true)\n",
      " |-- HarmonicsY3: double (nullable = true)\n",
      " |-- HarmonicsY5: double (nullable = true)\n",
      " |-- HarmonicsY7: double (nullable = true)\n",
      " |-- HarmonicsY9: double (nullable = true)\n",
      " |-- HarmonicsY11: double (nullable = true)\n",
      " |-- HarmonicsY13: double (nullable = true)\n",
      " |-- HarmonicsY15: double (nullable = true)\n",
      " |-- HarmonicsB1: double (nullable = true)\n",
      " |-- HarmonicsB3: double (nullable = true)\n",
      " |-- HarmonicsB5: double (nullable = true)\n",
      " |-- HarmonicsB7: double (nullable = true)\n",
      " |-- HarmonicsB9: double (nullable = true)\n",
      " |-- HarmonicsB11: double (nullable = true)\n",
      " |-- HarmonicsB13: double (nullable = true)\n",
      " |-- HarmonicsB15: double (nullable = true)\n",
      " |-- HarmonicsN1: double (nullable = true)\n",
      " |-- HarmonicsN3: double (nullable = true)\n",
      " |-- HarmonicsN5: double (nullable = true)\n",
      " |-- HarmonicsN7: double (nullable = true)\n",
      " |-- HarmonicsN9: double (nullable = true)\n",
      " |-- HarmonicsN11: double (nullable = true)\n",
      " |-- HarmonicsN13: double (nullable = true)\n",
      " |-- HarmonicsN15: double (nullable = true)\n",
      " |-- THD_AV: double (nullable = true)\n",
      " |-- THD_AI: double (nullable = true)\n",
      " |-- THD_BV: double (nullable = true)\n",
      " |-- THD_BI: double (nullable = true)\n",
      " |-- THD_CV: double (nullable = true)\n",
      " |-- THD_VI: double (nullable = true)\n",
      " |-- Timestamp: string (nullable = true)\n",
      "\n"
     ]
    }
   ],
   "source": [
    "df_pyspark.printSchema()        # To know more information about our data. And Checking the datatype of the columns."
   ]
  },
  {
   "cell_type": "markdown",
   "metadata": {},
   "source": [
    "(nullable = true) means the column we defined can not be null. nullable is an option which is set to true by default. "
   ]
  },
  {
   "cell_type": "markdown",
   "metadata": {},
   "source": [
    "### Dataframe basically is a data structure inside which we can perform various operations with data. "
   ]
  },
  {
   "cell_type": "code",
   "execution_count": 25,
   "metadata": {},
   "outputs": [
    {
     "data": {
      "text/plain": [
       "['SiteName',\n",
       " 'deviceId',\n",
       " 'SubUnitId',\n",
       " 'SubUnitname',\n",
       " 'SmokeAlertStatus',\n",
       " 'HarmonicsR1',\n",
       " 'HarmonicsR3',\n",
       " 'HarmonicsR5',\n",
       " 'HarmonicsR7',\n",
       " 'HarmonicsR9',\n",
       " 'HarmonicsR11',\n",
       " 'HarmonicsR13',\n",
       " 'HarmonicsR15',\n",
       " 'HarmonicsY1',\n",
       " 'HarmonicsY3',\n",
       " 'HarmonicsY5',\n",
       " 'HarmonicsY7',\n",
       " 'HarmonicsY9',\n",
       " 'HarmonicsY11',\n",
       " 'HarmonicsY13',\n",
       " 'HarmonicsY15',\n",
       " 'HarmonicsB1',\n",
       " 'HarmonicsB3',\n",
       " 'HarmonicsB5',\n",
       " 'HarmonicsB7',\n",
       " 'HarmonicsB9',\n",
       " 'HarmonicsB11',\n",
       " 'HarmonicsB13',\n",
       " 'HarmonicsB15',\n",
       " 'HarmonicsN1',\n",
       " 'HarmonicsN3',\n",
       " 'HarmonicsN5',\n",
       " 'HarmonicsN7',\n",
       " 'HarmonicsN9',\n",
       " 'HarmonicsN11',\n",
       " 'HarmonicsN13',\n",
       " 'HarmonicsN15',\n",
       " 'THD_AV',\n",
       " 'THD_AI',\n",
       " 'THD_BV',\n",
       " 'THD_BI',\n",
       " 'THD_CV',\n",
       " 'THD_VI',\n",
       " 'Timestamp']"
      ]
     },
     "execution_count": 25,
     "metadata": {},
     "output_type": "execute_result"
    }
   ],
   "source": [
    "# To get the columns\n",
    "df_pyspark.columns"
   ]
  },
  {
   "cell_type": "code",
   "execution_count": 26,
   "metadata": {},
   "outputs": [
    {
     "data": {
      "text/plain": [
       "DataFrame[HarmonicsR7: double]"
      ]
     },
     "execution_count": 26,
     "metadata": {},
     "output_type": "execute_result"
    }
   ],
   "source": [
    "# Code to pickup a particular column(s)\n",
    "df_pyspark.select('HarmonicsR7')"
   ]
  },
  {
   "cell_type": "markdown",
   "metadata": {},
   "source": [
    "Observe that the return type is dataframe. "
   ]
  },
  {
   "cell_type": "code",
   "execution_count": 29,
   "metadata": {},
   "outputs": [
    {
     "name": "stdout",
     "output_type": "stream",
     "text": [
      "+-----------+\n",
      "|HarmonicsR7|\n",
      "+-----------+\n",
      "|      0.227|\n",
      "|      0.226|\n",
      "|      0.228|\n",
      "|      0.219|\n",
      "|      0.209|\n",
      "|      0.221|\n",
      "|      0.199|\n",
      "|      0.201|\n",
      "|      0.186|\n",
      "|      0.192|\n",
      "|      0.203|\n",
      "|      0.201|\n",
      "|      0.195|\n",
      "|      0.176|\n",
      "|      0.176|\n",
      "|      0.176|\n",
      "|      0.183|\n",
      "|      0.143|\n",
      "|      0.035|\n",
      "|      0.039|\n",
      "+-----------+\n",
      "only showing top 20 rows\n",
      "\n"
     ]
    },
    {
     "data": {
      "text/plain": [
       "pyspark.sql.dataframe.DataFrame"
      ]
     },
     "execution_count": 29,
     "metadata": {},
     "output_type": "execute_result"
    }
   ],
   "source": [
    "# Code to see all the rows of a particular columns\n",
    "df_pyspark.select('HarmonicsR7').show()\n",
    "type(df_pyspark.select('HarmonicsR7'))"
   ]
  },
  {
   "cell_type": "code",
   "execution_count": 30,
   "metadata": {},
   "outputs": [
    {
     "name": "stdout",
     "output_type": "stream",
     "text": [
      "+-----------+-----------+\n",
      "|HarmonicsR7|HarmonicsY5|\n",
      "+-----------+-----------+\n",
      "|      0.227|      0.111|\n",
      "|      0.226|      0.096|\n",
      "|      0.228|      0.106|\n",
      "|      0.219|      0.262|\n",
      "|      0.209|      0.324|\n",
      "|      0.221|      0.355|\n",
      "|      0.199|      0.357|\n",
      "|      0.201|      0.351|\n",
      "|      0.186|       0.32|\n",
      "|      0.192|      0.334|\n",
      "|      0.203|      0.286|\n",
      "|      0.201|      0.317|\n",
      "|      0.195|      0.257|\n",
      "|      0.176|      0.264|\n",
      "|      0.176|      0.261|\n",
      "|      0.176|      0.261|\n",
      "|      0.183|      0.243|\n",
      "|      0.143|      0.098|\n",
      "|      0.035|      0.101|\n",
      "|      0.039|      0.096|\n",
      "+-----------+-----------+\n",
      "only showing top 20 rows\n",
      "\n"
     ]
    }
   ],
   "source": [
    "# Code to pickup multiple columns.\n",
    "df_pyspark.select(['HarmonicsR7','HarmonicsY5']).show()    # We need to use select operation so that we can do further operations on the resulting columns."
   ]
  },
  {
   "cell_type": "code",
   "execution_count": 31,
   "metadata": {},
   "outputs": [
    {
     "data": {
      "text/plain": [
       "[('SiteName', 'string'),\n",
       " ('deviceId', 'int'),\n",
       " ('SubUnitId', 'int'),\n",
       " ('SubUnitname', 'string'),\n",
       " ('SmokeAlertStatus', 'string'),\n",
       " ('HarmonicsR1', 'double'),\n",
       " ('HarmonicsR3', 'double'),\n",
       " ('HarmonicsR5', 'double'),\n",
       " ('HarmonicsR7', 'double'),\n",
       " ('HarmonicsR9', 'double'),\n",
       " ('HarmonicsR11', 'double'),\n",
       " ('HarmonicsR13', 'double'),\n",
       " ('HarmonicsR15', 'double'),\n",
       " ('HarmonicsY1', 'double'),\n",
       " ('HarmonicsY3', 'double'),\n",
       " ('HarmonicsY5', 'double'),\n",
       " ('HarmonicsY7', 'double'),\n",
       " ('HarmonicsY9', 'double'),\n",
       " ('HarmonicsY11', 'double'),\n",
       " ('HarmonicsY13', 'double'),\n",
       " ('HarmonicsY15', 'double'),\n",
       " ('HarmonicsB1', 'double'),\n",
       " ('HarmonicsB3', 'double'),\n",
       " ('HarmonicsB5', 'double'),\n",
       " ('HarmonicsB7', 'double'),\n",
       " ('HarmonicsB9', 'double'),\n",
       " ('HarmonicsB11', 'double'),\n",
       " ('HarmonicsB13', 'double'),\n",
       " ('HarmonicsB15', 'double'),\n",
       " ('HarmonicsN1', 'double'),\n",
       " ('HarmonicsN3', 'double'),\n",
       " ('HarmonicsN5', 'double'),\n",
       " ('HarmonicsN7', 'double'),\n",
       " ('HarmonicsN9', 'double'),\n",
       " ('HarmonicsN11', 'double'),\n",
       " ('HarmonicsN13', 'double'),\n",
       " ('HarmonicsN15', 'double'),\n",
       " ('THD_AV', 'double'),\n",
       " ('THD_AI', 'double'),\n",
       " ('THD_BV', 'double'),\n",
       " ('THD_BI', 'double'),\n",
       " ('THD_CV', 'double'),\n",
       " ('THD_VI', 'double'),\n",
       " ('Timestamp', 'string')]"
      ]
     },
     "execution_count": 31,
     "metadata": {},
     "output_type": "execute_result"
    }
   ],
   "source": [
    "df_pyspark.dtypes       # To see the data type of columns."
   ]
  },
  {
   "cell_type": "code",
   "execution_count": 34,
   "metadata": {},
   "outputs": [
    {
     "name": "stdout",
     "output_type": "stream",
     "text": [
      "+-------+--------------------+--------+---------+-----------+----------------+------------------+-------------------+-------------------+--------------------+-------------------+--------------------+--------------------+--------------------+------------------+-------------------+-------------------+-------------------+-------------------+--------------------+--------------------+--------------------+------------------+-------------------+-------------------+--------------------+--------------------+--------------------+--------------------+--------------------+------------------+-------------------+-------------------+-------------------+-------------------+-------------------+-------------------+-------------------+-----------------+------------------+-----------------+------------------+-----------------+-----------------+--------------+\n",
      "|summary|            SiteName|deviceId|SubUnitId|SubUnitname|SmokeAlertStatus|       HarmonicsR1|        HarmonicsR3|        HarmonicsR5|         HarmonicsR7|        HarmonicsR9|        HarmonicsR11|        HarmonicsR13|        HarmonicsR15|       HarmonicsY1|        HarmonicsY3|        HarmonicsY5|        HarmonicsY7|        HarmonicsY9|        HarmonicsY11|        HarmonicsY13|        HarmonicsY15|       HarmonicsB1|        HarmonicsB3|        HarmonicsB5|         HarmonicsB7|         HarmonicsB9|        HarmonicsB11|        HarmonicsB13|        HarmonicsB15|       HarmonicsN1|        HarmonicsN3|        HarmonicsN5|        HarmonicsN7|        HarmonicsN9|       HarmonicsN11|       HarmonicsN13|       HarmonicsN15|           THD_AV|            THD_AI|           THD_BV|            THD_BI|           THD_CV|           THD_VI|     Timestamp|\n",
      "+-------+--------------------+--------+---------+-----------+----------------+------------------+-------------------+-------------------+--------------------+-------------------+--------------------+--------------------+--------------------+------------------+-------------------+-------------------+-------------------+-------------------+--------------------+--------------------+--------------------+------------------+-------------------+-------------------+--------------------+--------------------+--------------------+--------------------+--------------------+------------------+-------------------+-------------------+-------------------+-------------------+-------------------+-------------------+-------------------+-----------------+------------------+-----------------+------------------+-----------------+-----------------+--------------+\n",
      "|  count|                4519|    4519|     4519|       4519|            4519|              4519|               4519|               4519|                4519|               4519|                4519|                4519|                4519|              4519|               4519|               4519|               4519|               4519|                4519|                4519|                4519|              4519|               4519|               4519|                4519|                4519|                4519|                4519|                4519|              4519|               4519|               4519|               4519|               4519|               4519|               4519|               4519|             4519|              4519|             4519|              4519|             4519|             4519|          4519|\n",
      "|   mean|                null| 22506.0|      1.0|       null|            null|0.6746160655012163|0.07845364018588108|0.10613653463155437|0.055358928966585196|0.05418942243859239|0.027241867669838733| 0.02570037618942283|0.023721619827395818|3.4510433724275402|0.37752002655454686|0.21568643505200255|0.16447687541491535|0.10081456074352736| 0.04466452755034292|0.033750829829608524|0.027890905067493182| 1.244567160876297|0.05917017039167936|0.05837596813454248|0.040278822748395324|0.024698827174153677|0.010068599247621244|0.009664527550343074|0.012062624474441327|2.5604819650365154| 0.4170918344766531| 0.3996736003540606|0.18836291214870515| 0.1729351626466032|0.07200132772737361|0.06481345430404956|0.03497632219517599|8.467692188537251|  57.1954870546581|7.965675813233028|29.850016817880054|5.450862580216841|69.04801571144056|          null|\n",
      "| stddev|                null|     0.0|      0.0|       null|            null|0.9582233669656767| 0.1518534072397114|0.17817870370933958| 0.09061334438146931|0.06301631683411751|0.030070982273756198|0.025298423863338162|0.017398550550359066|2.4297487486856517|0.26163984431157455|0.14495087220015868|0.10155464114455472|0.05694749685016521|0.032394513058004615|0.022102118394762723|  0.0187349421088184|2.2647370359106365|0.09385950873056575|0.10653223624557008| 0.08031507604073032| 0.04222446055844854|  0.0138135527485916|0.011880318629220787|  0.0150718162560979| 1.587760049791831|0.36769715718222157|0.27326126392561145|0.14909281583769424|0.09636881346036734| 0.0512430778793774|0.04060426095277009|0.02570800239228951|50.30334230101531|51.669020132670816|47.59662493433176| 53.94089218413384| 36.1409797507589|64.95432159361008|          null|\n",
      "|    min|RJ_6803_Abu_Road_...|   22506|        1|   EB Meter|           After|               0.0|                0.0|                0.0|                 0.0|                0.0|                 0.0|                 0.0|                 0.0|               0.0|                0.0|                0.0|                0.0|                0.0|                 0.0|                 0.0|                 0.0|               0.0|                0.0|                0.0|                 0.0|                 0.0|                 0.0|                 0.0|                 0.0|               0.0|                0.0|                0.0|                0.0|                0.0|                0.0|                0.0|                0.0|              0.0|               0.0|              0.0|               0.0|              0.0|              0.0|7/10/2020 0:04|\n",
      "|    max|RJ_6803_Abu_Road_...|   22506|        1|   EB Meter|Smoke Alert Time|            10.268|              3.085|               2.38|               1.285|              0.513|               0.418|               0.232|               0.171|            10.106|              1.112|              0.749|              0.406|              0.252|               0.154|               0.135|               0.098|            11.237|              0.612|              0.618|               0.484|               0.273|               0.117|               0.113|               0.109|            11.086|              3.787|              2.866|              1.578|              0.545|               0.42|              0.262|              0.216|            400.0|             400.0|            400.0|             400.0|            400.0|            400.0| 9/6/2020 9:54|\n",
      "+-------+--------------------+--------+---------+-----------+----------------+------------------+-------------------+-------------------+--------------------+-------------------+--------------------+--------------------+--------------------+------------------+-------------------+-------------------+-------------------+-------------------+--------------------+--------------------+--------------------+------------------+-------------------+-------------------+--------------------+--------------------+--------------------+--------------------+--------------------+------------------+-------------------+-------------------+-------------------+-------------------+-------------------+-------------------+-------------------+-----------------+------------------+-----------------+------------------+-----------------+-----------------+--------------+\n",
      "\n"
     ]
    }
   ],
   "source": [
    "#df_pyspark.describe()\n",
    "df_pyspark.describe().show()"
   ]
  },
  {
   "cell_type": "code",
   "execution_count": 38,
   "metadata": {},
   "outputs": [],
   "source": [
    "## Adding Columns in data frame.\n",
    "df_pyspark = df_pyspark.withColumn('DeviceId plus 5', df_pyspark['deviceId'] +2)"
   ]
  },
  {
   "cell_type": "code",
   "execution_count": 39,
   "metadata": {},
   "outputs": [
    {
     "name": "stdout",
     "output_type": "stream",
     "text": [
      "+--------------------+--------+---------+-----------+----------------+-----------+-----------+-----------+-----------+-----------+------------+------------+------------+-----------+-----------+-----------+-----------+-----------+------------+------------+------------+-----------+-----------+-----------+-----------+-----------+------------+------------+------------+-----------+-----------+-----------+-----------+-----------+------------+------------+------------+------+------+------+------+------+-------+-------------+---------------+\n",
      "|            SiteName|deviceId|SubUnitId|SubUnitname|SmokeAlertStatus|HarmonicsR1|HarmonicsR3|HarmonicsR5|HarmonicsR7|HarmonicsR9|HarmonicsR11|HarmonicsR13|HarmonicsR15|HarmonicsY1|HarmonicsY3|HarmonicsY5|HarmonicsY7|HarmonicsY9|HarmonicsY11|HarmonicsY13|HarmonicsY15|HarmonicsB1|HarmonicsB3|HarmonicsB5|HarmonicsB7|HarmonicsB9|HarmonicsB11|HarmonicsB13|HarmonicsB15|HarmonicsN1|HarmonicsN3|HarmonicsN5|HarmonicsN7|HarmonicsN9|HarmonicsN11|HarmonicsN13|HarmonicsN15|THD_AV|THD_AI|THD_BV|THD_BI|THD_CV| THD_VI|    Timestamp|DeviceId plus 5|\n",
      "+--------------------+--------+---------+-----------+----------------+-----------+-----------+-----------+-----------+-----------+------------+------------+------------+-----------+-----------+-----------+-----------+-----------+------------+------------+------------+-----------+-----------+-----------+-----------+-----------+------------+------------+------------+-----------+-----------+-----------+-----------+-----------+------------+------------+------------+------+------+------+------+------+-------+-------------+---------------+\n",
      "|RJ_6803_Abu_Road_...|   22506|        1|   EB Meter|          Before|       2.36|      0.274|      0.399|      0.227|      0.158|        0.06|       0.098|       0.042|      5.927|      0.159|      0.111|      0.104|      0.083|       0.053|       0.055|       0.041|      0.052|      0.011|      0.006|      0.003|      0.005|       0.006|       0.003|       0.002|      4.763|      0.128|      0.476|      0.256|      0.122|       0.004|       0.059|       0.018| 1.423| 26.16| 1.113| 4.718| 1.022|104.763|7/4/2020 0:04|          22508|\n",
      "|RJ_6803_Abu_Road_...|   22506|        1|   EB Meter|          Before|      2.371|      0.277|      0.392|      0.226|      0.163|       0.069|       0.108|       0.046|      5.801|      0.161|      0.096|      0.096|      0.079|       0.055|       0.043|       0.036|      0.053|      0.011|      0.005|      0.003|      0.005|       0.005|       0.004|       0.002|      4.648|      0.125|      0.464|      0.257|      0.124|       0.009|       0.085|       0.025| 1.479|26.241|  1.13| 4.528|   0.9|104.844|7/4/2020 0:35|          22508|\n",
      "|RJ_6803_Abu_Road_...|   22506|        1|   EB Meter|          Before|      2.353|      0.273|      0.385|      0.228|      0.163|       0.072|       0.099|       0.045|      5.406|      0.192|      0.106|      0.098|      0.076|       0.059|       0.046|       0.034|      0.051|      0.012|      0.005|      0.002|      0.004|       0.003|       0.003|       0.002|      4.474|       0.09|      0.458|      0.244|      0.123|       0.011|       0.081|       0.024| 1.743|26.076| 0.954| 5.421| 1.124|109.822|7/4/2020 1:04|          22508|\n",
      "|RJ_6803_Abu_Road_...|   22506|        1|   EB Meter|          Before|      2.357|      0.278|      0.388|      0.219|      0.173|       0.078|       0.101|       0.045|      2.839|      0.757|      0.262|       0.32|      0.113|        0.08|       0.039|       0.047|       0.05|      0.009|      0.001|      0.004|      0.007|       0.006|       0.003|       0.002|      1.872|      0.759|      0.483|      0.137|      0.265|       0.146|       0.078|       0.019| 1.579|26.142| 1.315|35.795| 1.113|110.852|7/4/2020 1:35|          22508|\n",
      "|RJ_6803_Abu_Road_...|   22506|        1|   EB Meter|          Before|      2.324|      0.283|      0.386|      0.209|      0.155|       0.088|       0.066|       0.039|      3.795|      0.783|      0.324|      0.328|      0.073|       0.117|       0.034|       0.062|      0.054|      0.013|      0.004|      0.003|      0.007|       0.008|       0.004|       0.005|      2.888|      0.831|      0.637|      0.131|      0.169|       0.203|       0.103|       0.029| 1.984|25.968| 1.738|24.864| 1.374|114.228|7/4/2020 2:05|          22508|\n",
      "|RJ_6803_Abu_Road_...|   22506|        1|   EB Meter|          Before|      2.338|      0.289|      0.395|      0.221|      0.166|       0.085|       0.077|       0.034|      3.869|      0.788|      0.355|      0.338|      0.085|       0.116|       0.047|       0.061|      0.054|      0.013|      0.005|      0.003|      0.008|       0.007|       0.006|       0.006|      2.967|       0.84|      0.658|      0.131|      0.167|       0.188|       0.105|       0.034| 1.629|26.885| 1.574|24.764| 1.095|113.401|7/4/2020 2:35|          22508|\n",
      "|RJ_6803_Abu_Road_...|   22506|        1|   EB Meter|          Before|      2.128|      0.291|      0.417|      0.199|       0.17|       0.091|       0.077|       0.011|      4.214|      0.807|      0.357|      0.333|      0.081|       0.117|       0.045|       0.061|      0.058|      0.011|      0.005|      0.003|      0.007|       0.007|       0.006|       0.005|       3.06|      0.837|      0.659|      0.142|      0.174|       0.191|       0.104|       0.035| 1.813|29.408| 1.666| 23.05|  0.95|107.145|7/4/2020 3:07|          22508|\n",
      "|RJ_6803_Abu_Road_...|   22506|        1|   EB Meter|          Before|      2.094|      0.296|      0.418|      0.201|      0.157|       0.082|       0.078|       0.023|       3.84|      0.804|      0.351|      0.335|      0.075|       0.105|       0.044|       0.062|      0.051|      0.012|      0.005|      0.005|      0.006|       0.005|       0.005|       0.004|      3.071|      0.814|      0.657|      0.136|      0.183|       0.178|       0.109|       0.045|  1.73|30.834| 1.445|25.166| 1.175|110.753|7/4/2020 3:36|          22508|\n",
      "|RJ_6803_Abu_Road_...|   22506|        1|   EB Meter|          Before|      2.063|      0.291|      0.403|      0.186|      0.162|       0.088|        0.08|       0.039|      4.214|       0.77|       0.32|      0.332|      0.078|        0.11|       0.042|       0.061|      0.056|      0.012|      0.005|      0.005|      0.007|       0.007|       0.007|       0.004|      3.077|      0.815|      0.636|      0.161|      0.173|       0.169|       0.115|       0.052| 1.544|31.046| 1.386|21.984| 1.172|103.694|7/4/2020 4:06|          22508|\n",
      "|RJ_6803_Abu_Road_...|   22506|        1|   EB Meter|          Before|      2.088|      0.316|      0.405|      0.192|      0.177|       0.131|       0.113|       0.056|      4.185|      0.773|      0.334|      0.321|      0.076|       0.131|       0.036|       0.064|      0.057|      0.011|      0.004|      0.002|      0.009|       0.004|       0.005|       0.009|      3.068|      0.779|      0.626|      0.145|      0.177|       0.231|       0.124|       0.018| 1.905|31.071| 1.554|22.247| 0.687|101.061|7/4/2020 4:37|          22508|\n",
      "|RJ_6803_Abu_Road_...|   22506|        1|   EB Meter|          Before|      2.073|      0.299|      0.405|      0.203|      0.165|       0.087|       0.087|       0.049|       3.72|      0.719|      0.286|      0.306|      0.062|       0.121|       0.023|       0.064|      0.049|      0.012|      0.002|      0.005|      0.005|       0.008|       0.004|       0.007|      2.972|      0.672|      0.602|      0.119|      0.172|       0.195|       0.111|       0.057| 1.726|30.927| 1.682| 23.24| 1.304|115.598|7/4/2020 5:06|          22508|\n",
      "|RJ_6803_Abu_Road_...|   22506|        1|   EB Meter|          Before|      2.088|      0.301|       0.42|      0.201|      0.164|         0.1|       0.091|       0.047|      4.129|      0.775|      0.317|      0.309|       0.06|       0.109|       0.038|       0.064|      0.054|      0.011|      0.002|      0.003|      0.005|       0.007|       0.005|       0.007|      3.048|      0.733|      0.609|       0.11|      0.174|       0.178|       0.102|       0.069| 2.181|31.204| 1.624| 22.34| 1.222|  103.5|7/4/2020 5:31|          22508|\n",
      "|RJ_6803_Abu_Road_...|   22506|        1|   EB Meter|          Before|      2.081|       0.29|      0.406|      0.195|      0.159|       0.093|       0.064|       0.037|      4.553|      0.339|      0.257|      0.169|      0.172|       0.022|       0.063|       0.041|      0.058|      0.012|      0.003|      0.001|      0.009|       0.004|       0.003|       0.006|      3.442|      0.418|      0.524|      0.069|       0.25|        0.09|       0.049|       0.035| 1.823|30.437| 1.552|11.369| 0.361|101.648|7/4/2020 6:02|          22508|\n",
      "|RJ_6803_Abu_Road_...|   22506|        1|   EB Meter|          Before|      1.922|      0.311|      0.436|      0.176|      0.165|       0.073|       0.051|       0.034|      4.224|      0.277|      0.264|      0.156|      0.184|       0.019|       0.059|       0.035|      0.052|       0.01|      0.004|      0.001|      0.006|       0.004|       0.004|       0.003|      3.473|      0.357|      0.594|      0.007|      0.199|       0.068|       0.073|       0.021| 1.411|32.764| 1.279|11.377| 1.107|138.634|7/4/2020 6:32|          22508|\n",
      "|RJ_6803_Abu_Road_...|   22506|        1|   EB Meter|          Before|      1.937|      0.309|      0.441|      0.176|      0.164|       0.068|        0.05|       0.037|      4.622|      0.269|      0.261|      0.138|      0.175|       0.009|        0.06|       0.041|      0.056|      0.011|      0.004|      0.001|      0.006|       0.004|       0.003|       0.003|      3.599|      0.376|      0.596|      0.032|      0.219|       0.074|       0.078|       0.014| 1.328|32.209| 1.334| 9.905| 1.507|122.618|7/4/2020 6:50|          22508|\n",
      "|RJ_6803_Abu_Road_...|   22506|        1|   EB Meter|          Before|      1.937|      0.309|      0.441|      0.176|      0.164|       0.068|        0.05|       0.037|      4.622|      0.269|      0.261|      0.138|      0.175|       0.009|        0.06|       0.041|      0.056|      0.011|      0.004|      0.001|      0.006|       0.004|       0.003|       0.003|      3.599|      0.376|      0.596|      0.032|      0.219|       0.074|       0.078|       0.014| 1.328|32.209| 1.334| 9.905| 1.507|122.618|7/4/2020 6:52|          22508|\n",
      "|RJ_6803_Abu_Road_...|   22506|        1|   EB Meter|          Before|      1.893|      0.306|      0.432|      0.183|      0.166|       0.062|       0.057|       0.032|      4.631|      0.264|      0.243|      0.146|      0.175|       0.011|        0.06|       0.034|      0.057|      0.011|      0.004|      0.001|      0.006|       0.004|       0.003|       0.002|       3.61|      0.356|      0.568|      0.037|       0.21|       0.075|       0.086|       0.011| 0.689|34.293| 1.278|  9.64| 1.033|119.964|7/4/2020 7:15|          22508|\n",
      "|RJ_6803_Abu_Road_...|   22506|        1|   EB Meter|          Before|      1.466|      0.239|      0.337|      0.143|      0.136|       0.044|       0.037|       0.023|        5.6|      0.194|      0.098|      0.077|      0.089|       0.054|       0.053|       0.039|      0.057|      0.012|      0.008|      0.003|      0.004|       0.002|       0.003|       0.002|      4.672|      0.139|       0.51|      0.199|      0.121|       0.007|        0.08|       0.028| 1.069|33.432| 1.103| 4.986| 0.838|113.385|7/4/2020 7:44|          22508|\n",
      "|RJ_6803_Abu_Road_...|   22506|        1|   EB Meter|          Before|      0.412|      0.047|       0.06|      0.035|      0.038|       0.007|       0.013|       0.015|      6.003|      0.158|      0.101|      0.072|      0.087|       0.065|       0.052|       0.034|      0.059|      0.009|      0.007|      0.004|      0.006|       0.006|       0.004|       0.002|       4.92|      0.155|      0.503|      0.199|      0.126|       0.014|       0.087|       0.034| 0.723|41.956| 1.102|  4.16| 0.256|110.208|7/4/2020 8:16|          22508|\n",
      "|RJ_6803_Abu_Road_...|   22506|        1|   EB Meter|          Before|      0.439|      0.051|       0.07|      0.039|      0.042|       0.003|       0.016|       0.016|      5.778|      0.195|      0.096|      0.082|      0.094|       0.067|       0.055|       0.034|      0.056|      0.011|      0.008|      0.004|      0.008|       0.004|       0.003|       0.002|      4.817|      0.128|      0.492|      0.208|      0.113|       0.044|       0.101|       0.025| 1.203|41.227| 0.973| 5.032|  1.61|120.748|7/4/2020 8:45|          22508|\n",
      "+--------------------+--------+---------+-----------+----------------+-----------+-----------+-----------+-----------+-----------+------------+------------+------------+-----------+-----------+-----------+-----------+-----------+------------+------------+------------+-----------+-----------+-----------+-----------+-----------+------------+------------+------------+-----------+-----------+-----------+-----------+-----------+------------+------------+------------+------+------+------+------+------+-------+-------------+---------------+\n",
      "only showing top 20 rows\n",
      "\n"
     ]
    }
   ],
   "source": [
    "df_pyspark.show()"
   ]
  },
  {
   "cell_type": "code",
   "execution_count": 41,
   "metadata": {},
   "outputs": [],
   "source": [
    "## Drop the columns\n",
    "df_pyspark = df_pyspark.drop('HarmonicsR1')"
   ]
  },
  {
   "cell_type": "code",
   "execution_count": 42,
   "metadata": {},
   "outputs": [
    {
     "name": "stdout",
     "output_type": "stream",
     "text": [
      "+--------------------+--------+---------+-----------+----------------+-----------+-----------+-----------+-----------+------------+------------+------------+-----------+-----------+-----------+-----------+-----------+------------+------------+------------+-----------+-----------+-----------+-----------+-----------+------------+------------+------------+-----------+-----------+-----------+-----------+-----------+------------+------------+------------+------+------+------+------+------+-------+-------------+---------------+\n",
      "|            SiteName|deviceId|SubUnitId|SubUnitname|SmokeAlertStatus|HarmonicsR3|HarmonicsR5|HarmonicsR7|HarmonicsR9|HarmonicsR11|HarmonicsR13|HarmonicsR15|HarmonicsY1|HarmonicsY3|HarmonicsY5|HarmonicsY7|HarmonicsY9|HarmonicsY11|HarmonicsY13|HarmonicsY15|HarmonicsB1|HarmonicsB3|HarmonicsB5|HarmonicsB7|HarmonicsB9|HarmonicsB11|HarmonicsB13|HarmonicsB15|HarmonicsN1|HarmonicsN3|HarmonicsN5|HarmonicsN7|HarmonicsN9|HarmonicsN11|HarmonicsN13|HarmonicsN15|THD_AV|THD_AI|THD_BV|THD_BI|THD_CV| THD_VI|    Timestamp|DeviceId plus 5|\n",
      "+--------------------+--------+---------+-----------+----------------+-----------+-----------+-----------+-----------+------------+------------+------------+-----------+-----------+-----------+-----------+-----------+------------+------------+------------+-----------+-----------+-----------+-----------+-----------+------------+------------+------------+-----------+-----------+-----------+-----------+-----------+------------+------------+------------+------+------+------+------+------+-------+-------------+---------------+\n",
      "|RJ_6803_Abu_Road_...|   22506|        1|   EB Meter|          Before|      0.274|      0.399|      0.227|      0.158|        0.06|       0.098|       0.042|      5.927|      0.159|      0.111|      0.104|      0.083|       0.053|       0.055|       0.041|      0.052|      0.011|      0.006|      0.003|      0.005|       0.006|       0.003|       0.002|      4.763|      0.128|      0.476|      0.256|      0.122|       0.004|       0.059|       0.018| 1.423| 26.16| 1.113| 4.718| 1.022|104.763|7/4/2020 0:04|          22508|\n",
      "|RJ_6803_Abu_Road_...|   22506|        1|   EB Meter|          Before|      0.277|      0.392|      0.226|      0.163|       0.069|       0.108|       0.046|      5.801|      0.161|      0.096|      0.096|      0.079|       0.055|       0.043|       0.036|      0.053|      0.011|      0.005|      0.003|      0.005|       0.005|       0.004|       0.002|      4.648|      0.125|      0.464|      0.257|      0.124|       0.009|       0.085|       0.025| 1.479|26.241|  1.13| 4.528|   0.9|104.844|7/4/2020 0:35|          22508|\n",
      "|RJ_6803_Abu_Road_...|   22506|        1|   EB Meter|          Before|      0.273|      0.385|      0.228|      0.163|       0.072|       0.099|       0.045|      5.406|      0.192|      0.106|      0.098|      0.076|       0.059|       0.046|       0.034|      0.051|      0.012|      0.005|      0.002|      0.004|       0.003|       0.003|       0.002|      4.474|       0.09|      0.458|      0.244|      0.123|       0.011|       0.081|       0.024| 1.743|26.076| 0.954| 5.421| 1.124|109.822|7/4/2020 1:04|          22508|\n",
      "|RJ_6803_Abu_Road_...|   22506|        1|   EB Meter|          Before|      0.278|      0.388|      0.219|      0.173|       0.078|       0.101|       0.045|      2.839|      0.757|      0.262|       0.32|      0.113|        0.08|       0.039|       0.047|       0.05|      0.009|      0.001|      0.004|      0.007|       0.006|       0.003|       0.002|      1.872|      0.759|      0.483|      0.137|      0.265|       0.146|       0.078|       0.019| 1.579|26.142| 1.315|35.795| 1.113|110.852|7/4/2020 1:35|          22508|\n",
      "|RJ_6803_Abu_Road_...|   22506|        1|   EB Meter|          Before|      0.283|      0.386|      0.209|      0.155|       0.088|       0.066|       0.039|      3.795|      0.783|      0.324|      0.328|      0.073|       0.117|       0.034|       0.062|      0.054|      0.013|      0.004|      0.003|      0.007|       0.008|       0.004|       0.005|      2.888|      0.831|      0.637|      0.131|      0.169|       0.203|       0.103|       0.029| 1.984|25.968| 1.738|24.864| 1.374|114.228|7/4/2020 2:05|          22508|\n",
      "|RJ_6803_Abu_Road_...|   22506|        1|   EB Meter|          Before|      0.289|      0.395|      0.221|      0.166|       0.085|       0.077|       0.034|      3.869|      0.788|      0.355|      0.338|      0.085|       0.116|       0.047|       0.061|      0.054|      0.013|      0.005|      0.003|      0.008|       0.007|       0.006|       0.006|      2.967|       0.84|      0.658|      0.131|      0.167|       0.188|       0.105|       0.034| 1.629|26.885| 1.574|24.764| 1.095|113.401|7/4/2020 2:35|          22508|\n",
      "|RJ_6803_Abu_Road_...|   22506|        1|   EB Meter|          Before|      0.291|      0.417|      0.199|       0.17|       0.091|       0.077|       0.011|      4.214|      0.807|      0.357|      0.333|      0.081|       0.117|       0.045|       0.061|      0.058|      0.011|      0.005|      0.003|      0.007|       0.007|       0.006|       0.005|       3.06|      0.837|      0.659|      0.142|      0.174|       0.191|       0.104|       0.035| 1.813|29.408| 1.666| 23.05|  0.95|107.145|7/4/2020 3:07|          22508|\n",
      "|RJ_6803_Abu_Road_...|   22506|        1|   EB Meter|          Before|      0.296|      0.418|      0.201|      0.157|       0.082|       0.078|       0.023|       3.84|      0.804|      0.351|      0.335|      0.075|       0.105|       0.044|       0.062|      0.051|      0.012|      0.005|      0.005|      0.006|       0.005|       0.005|       0.004|      3.071|      0.814|      0.657|      0.136|      0.183|       0.178|       0.109|       0.045|  1.73|30.834| 1.445|25.166| 1.175|110.753|7/4/2020 3:36|          22508|\n",
      "|RJ_6803_Abu_Road_...|   22506|        1|   EB Meter|          Before|      0.291|      0.403|      0.186|      0.162|       0.088|        0.08|       0.039|      4.214|       0.77|       0.32|      0.332|      0.078|        0.11|       0.042|       0.061|      0.056|      0.012|      0.005|      0.005|      0.007|       0.007|       0.007|       0.004|      3.077|      0.815|      0.636|      0.161|      0.173|       0.169|       0.115|       0.052| 1.544|31.046| 1.386|21.984| 1.172|103.694|7/4/2020 4:06|          22508|\n",
      "|RJ_6803_Abu_Road_...|   22506|        1|   EB Meter|          Before|      0.316|      0.405|      0.192|      0.177|       0.131|       0.113|       0.056|      4.185|      0.773|      0.334|      0.321|      0.076|       0.131|       0.036|       0.064|      0.057|      0.011|      0.004|      0.002|      0.009|       0.004|       0.005|       0.009|      3.068|      0.779|      0.626|      0.145|      0.177|       0.231|       0.124|       0.018| 1.905|31.071| 1.554|22.247| 0.687|101.061|7/4/2020 4:37|          22508|\n",
      "|RJ_6803_Abu_Road_...|   22506|        1|   EB Meter|          Before|      0.299|      0.405|      0.203|      0.165|       0.087|       0.087|       0.049|       3.72|      0.719|      0.286|      0.306|      0.062|       0.121|       0.023|       0.064|      0.049|      0.012|      0.002|      0.005|      0.005|       0.008|       0.004|       0.007|      2.972|      0.672|      0.602|      0.119|      0.172|       0.195|       0.111|       0.057| 1.726|30.927| 1.682| 23.24| 1.304|115.598|7/4/2020 5:06|          22508|\n",
      "|RJ_6803_Abu_Road_...|   22506|        1|   EB Meter|          Before|      0.301|       0.42|      0.201|      0.164|         0.1|       0.091|       0.047|      4.129|      0.775|      0.317|      0.309|       0.06|       0.109|       0.038|       0.064|      0.054|      0.011|      0.002|      0.003|      0.005|       0.007|       0.005|       0.007|      3.048|      0.733|      0.609|       0.11|      0.174|       0.178|       0.102|       0.069| 2.181|31.204| 1.624| 22.34| 1.222|  103.5|7/4/2020 5:31|          22508|\n",
      "|RJ_6803_Abu_Road_...|   22506|        1|   EB Meter|          Before|       0.29|      0.406|      0.195|      0.159|       0.093|       0.064|       0.037|      4.553|      0.339|      0.257|      0.169|      0.172|       0.022|       0.063|       0.041|      0.058|      0.012|      0.003|      0.001|      0.009|       0.004|       0.003|       0.006|      3.442|      0.418|      0.524|      0.069|       0.25|        0.09|       0.049|       0.035| 1.823|30.437| 1.552|11.369| 0.361|101.648|7/4/2020 6:02|          22508|\n",
      "|RJ_6803_Abu_Road_...|   22506|        1|   EB Meter|          Before|      0.311|      0.436|      0.176|      0.165|       0.073|       0.051|       0.034|      4.224|      0.277|      0.264|      0.156|      0.184|       0.019|       0.059|       0.035|      0.052|       0.01|      0.004|      0.001|      0.006|       0.004|       0.004|       0.003|      3.473|      0.357|      0.594|      0.007|      0.199|       0.068|       0.073|       0.021| 1.411|32.764| 1.279|11.377| 1.107|138.634|7/4/2020 6:32|          22508|\n",
      "|RJ_6803_Abu_Road_...|   22506|        1|   EB Meter|          Before|      0.309|      0.441|      0.176|      0.164|       0.068|        0.05|       0.037|      4.622|      0.269|      0.261|      0.138|      0.175|       0.009|        0.06|       0.041|      0.056|      0.011|      0.004|      0.001|      0.006|       0.004|       0.003|       0.003|      3.599|      0.376|      0.596|      0.032|      0.219|       0.074|       0.078|       0.014| 1.328|32.209| 1.334| 9.905| 1.507|122.618|7/4/2020 6:50|          22508|\n",
      "|RJ_6803_Abu_Road_...|   22506|        1|   EB Meter|          Before|      0.309|      0.441|      0.176|      0.164|       0.068|        0.05|       0.037|      4.622|      0.269|      0.261|      0.138|      0.175|       0.009|        0.06|       0.041|      0.056|      0.011|      0.004|      0.001|      0.006|       0.004|       0.003|       0.003|      3.599|      0.376|      0.596|      0.032|      0.219|       0.074|       0.078|       0.014| 1.328|32.209| 1.334| 9.905| 1.507|122.618|7/4/2020 6:52|          22508|\n",
      "|RJ_6803_Abu_Road_...|   22506|        1|   EB Meter|          Before|      0.306|      0.432|      0.183|      0.166|       0.062|       0.057|       0.032|      4.631|      0.264|      0.243|      0.146|      0.175|       0.011|        0.06|       0.034|      0.057|      0.011|      0.004|      0.001|      0.006|       0.004|       0.003|       0.002|       3.61|      0.356|      0.568|      0.037|       0.21|       0.075|       0.086|       0.011| 0.689|34.293| 1.278|  9.64| 1.033|119.964|7/4/2020 7:15|          22508|\n",
      "|RJ_6803_Abu_Road_...|   22506|        1|   EB Meter|          Before|      0.239|      0.337|      0.143|      0.136|       0.044|       0.037|       0.023|        5.6|      0.194|      0.098|      0.077|      0.089|       0.054|       0.053|       0.039|      0.057|      0.012|      0.008|      0.003|      0.004|       0.002|       0.003|       0.002|      4.672|      0.139|       0.51|      0.199|      0.121|       0.007|        0.08|       0.028| 1.069|33.432| 1.103| 4.986| 0.838|113.385|7/4/2020 7:44|          22508|\n",
      "|RJ_6803_Abu_Road_...|   22506|        1|   EB Meter|          Before|      0.047|       0.06|      0.035|      0.038|       0.007|       0.013|       0.015|      6.003|      0.158|      0.101|      0.072|      0.087|       0.065|       0.052|       0.034|      0.059|      0.009|      0.007|      0.004|      0.006|       0.006|       0.004|       0.002|       4.92|      0.155|      0.503|      0.199|      0.126|       0.014|       0.087|       0.034| 0.723|41.956| 1.102|  4.16| 0.256|110.208|7/4/2020 8:16|          22508|\n",
      "|RJ_6803_Abu_Road_...|   22506|        1|   EB Meter|          Before|      0.051|       0.07|      0.039|      0.042|       0.003|       0.016|       0.016|      5.778|      0.195|      0.096|      0.082|      0.094|       0.067|       0.055|       0.034|      0.056|      0.011|      0.008|      0.004|      0.008|       0.004|       0.003|       0.002|      4.817|      0.128|      0.492|      0.208|      0.113|       0.044|       0.101|       0.025| 1.203|41.227| 0.973| 5.032|  1.61|120.748|7/4/2020 8:45|          22508|\n",
      "+--------------------+--------+---------+-----------+----------------+-----------+-----------+-----------+-----------+------------+------------+------------+-----------+-----------+-----------+-----------+-----------+------------+------------+------------+-----------+-----------+-----------+-----------+-----------+------------+------------+------------+-----------+-----------+-----------+-----------+-----------+------------+------------+------------+------+------+------+------+------+-------+-------------+---------------+\n",
      "only showing top 20 rows\n",
      "\n"
     ]
    }
   ],
   "source": [
    "df_pyspark.show()"
   ]
  },
  {
   "cell_type": "code",
   "execution_count": 43,
   "metadata": {},
   "outputs": [
    {
     "name": "stdout",
     "output_type": "stream",
     "text": [
      "+--------------------+--------+---------+-----------+----------------+-----------+-----------+-----------+-----------+------------+------------+------------+-----------+-----------+-----------+-----------+-----------+------------+------------+------------+-----------+-----------+-----------+-----------+-----------+------------+------------+------------+-----------+-----------+-----------+-----------+-----------+------------+------------+------------+------+------+------+------+------+-------+-------------+---------------+\n",
      "|     ChangedSiteName|deviceId|SubUnitId|SubUnitname|SmokeAlertStatus|HarmonicsR3|HarmonicsR5|HarmonicsR7|HarmonicsR9|HarmonicsR11|HarmonicsR13|HarmonicsR15|HarmonicsY1|HarmonicsY3|HarmonicsY5|HarmonicsY7|HarmonicsY9|HarmonicsY11|HarmonicsY13|HarmonicsY15|HarmonicsB1|HarmonicsB3|HarmonicsB5|HarmonicsB7|HarmonicsB9|HarmonicsB11|HarmonicsB13|HarmonicsB15|HarmonicsN1|HarmonicsN3|HarmonicsN5|HarmonicsN7|HarmonicsN9|HarmonicsN11|HarmonicsN13|HarmonicsN15|THD_AV|THD_AI|THD_BV|THD_BI|THD_CV| THD_VI|    Timestamp|DeviceId plus 5|\n",
      "+--------------------+--------+---------+-----------+----------------+-----------+-----------+-----------+-----------+------------+------------+------------+-----------+-----------+-----------+-----------+-----------+------------+------------+------------+-----------+-----------+-----------+-----------+-----------+------------+------------+------------+-----------+-----------+-----------+-----------+-----------+------------+------------+------------+------+------+------+------+------+-------+-------------+---------------+\n",
      "|RJ_6803_Abu_Road_...|   22506|        1|   EB Meter|          Before|      0.274|      0.399|      0.227|      0.158|        0.06|       0.098|       0.042|      5.927|      0.159|      0.111|      0.104|      0.083|       0.053|       0.055|       0.041|      0.052|      0.011|      0.006|      0.003|      0.005|       0.006|       0.003|       0.002|      4.763|      0.128|      0.476|      0.256|      0.122|       0.004|       0.059|       0.018| 1.423| 26.16| 1.113| 4.718| 1.022|104.763|7/4/2020 0:04|          22508|\n",
      "|RJ_6803_Abu_Road_...|   22506|        1|   EB Meter|          Before|      0.277|      0.392|      0.226|      0.163|       0.069|       0.108|       0.046|      5.801|      0.161|      0.096|      0.096|      0.079|       0.055|       0.043|       0.036|      0.053|      0.011|      0.005|      0.003|      0.005|       0.005|       0.004|       0.002|      4.648|      0.125|      0.464|      0.257|      0.124|       0.009|       0.085|       0.025| 1.479|26.241|  1.13| 4.528|   0.9|104.844|7/4/2020 0:35|          22508|\n",
      "|RJ_6803_Abu_Road_...|   22506|        1|   EB Meter|          Before|      0.273|      0.385|      0.228|      0.163|       0.072|       0.099|       0.045|      5.406|      0.192|      0.106|      0.098|      0.076|       0.059|       0.046|       0.034|      0.051|      0.012|      0.005|      0.002|      0.004|       0.003|       0.003|       0.002|      4.474|       0.09|      0.458|      0.244|      0.123|       0.011|       0.081|       0.024| 1.743|26.076| 0.954| 5.421| 1.124|109.822|7/4/2020 1:04|          22508|\n",
      "|RJ_6803_Abu_Road_...|   22506|        1|   EB Meter|          Before|      0.278|      0.388|      0.219|      0.173|       0.078|       0.101|       0.045|      2.839|      0.757|      0.262|       0.32|      0.113|        0.08|       0.039|       0.047|       0.05|      0.009|      0.001|      0.004|      0.007|       0.006|       0.003|       0.002|      1.872|      0.759|      0.483|      0.137|      0.265|       0.146|       0.078|       0.019| 1.579|26.142| 1.315|35.795| 1.113|110.852|7/4/2020 1:35|          22508|\n",
      "|RJ_6803_Abu_Road_...|   22506|        1|   EB Meter|          Before|      0.283|      0.386|      0.209|      0.155|       0.088|       0.066|       0.039|      3.795|      0.783|      0.324|      0.328|      0.073|       0.117|       0.034|       0.062|      0.054|      0.013|      0.004|      0.003|      0.007|       0.008|       0.004|       0.005|      2.888|      0.831|      0.637|      0.131|      0.169|       0.203|       0.103|       0.029| 1.984|25.968| 1.738|24.864| 1.374|114.228|7/4/2020 2:05|          22508|\n",
      "|RJ_6803_Abu_Road_...|   22506|        1|   EB Meter|          Before|      0.289|      0.395|      0.221|      0.166|       0.085|       0.077|       0.034|      3.869|      0.788|      0.355|      0.338|      0.085|       0.116|       0.047|       0.061|      0.054|      0.013|      0.005|      0.003|      0.008|       0.007|       0.006|       0.006|      2.967|       0.84|      0.658|      0.131|      0.167|       0.188|       0.105|       0.034| 1.629|26.885| 1.574|24.764| 1.095|113.401|7/4/2020 2:35|          22508|\n",
      "|RJ_6803_Abu_Road_...|   22506|        1|   EB Meter|          Before|      0.291|      0.417|      0.199|       0.17|       0.091|       0.077|       0.011|      4.214|      0.807|      0.357|      0.333|      0.081|       0.117|       0.045|       0.061|      0.058|      0.011|      0.005|      0.003|      0.007|       0.007|       0.006|       0.005|       3.06|      0.837|      0.659|      0.142|      0.174|       0.191|       0.104|       0.035| 1.813|29.408| 1.666| 23.05|  0.95|107.145|7/4/2020 3:07|          22508|\n",
      "|RJ_6803_Abu_Road_...|   22506|        1|   EB Meter|          Before|      0.296|      0.418|      0.201|      0.157|       0.082|       0.078|       0.023|       3.84|      0.804|      0.351|      0.335|      0.075|       0.105|       0.044|       0.062|      0.051|      0.012|      0.005|      0.005|      0.006|       0.005|       0.005|       0.004|      3.071|      0.814|      0.657|      0.136|      0.183|       0.178|       0.109|       0.045|  1.73|30.834| 1.445|25.166| 1.175|110.753|7/4/2020 3:36|          22508|\n",
      "|RJ_6803_Abu_Road_...|   22506|        1|   EB Meter|          Before|      0.291|      0.403|      0.186|      0.162|       0.088|        0.08|       0.039|      4.214|       0.77|       0.32|      0.332|      0.078|        0.11|       0.042|       0.061|      0.056|      0.012|      0.005|      0.005|      0.007|       0.007|       0.007|       0.004|      3.077|      0.815|      0.636|      0.161|      0.173|       0.169|       0.115|       0.052| 1.544|31.046| 1.386|21.984| 1.172|103.694|7/4/2020 4:06|          22508|\n",
      "|RJ_6803_Abu_Road_...|   22506|        1|   EB Meter|          Before|      0.316|      0.405|      0.192|      0.177|       0.131|       0.113|       0.056|      4.185|      0.773|      0.334|      0.321|      0.076|       0.131|       0.036|       0.064|      0.057|      0.011|      0.004|      0.002|      0.009|       0.004|       0.005|       0.009|      3.068|      0.779|      0.626|      0.145|      0.177|       0.231|       0.124|       0.018| 1.905|31.071| 1.554|22.247| 0.687|101.061|7/4/2020 4:37|          22508|\n",
      "|RJ_6803_Abu_Road_...|   22506|        1|   EB Meter|          Before|      0.299|      0.405|      0.203|      0.165|       0.087|       0.087|       0.049|       3.72|      0.719|      0.286|      0.306|      0.062|       0.121|       0.023|       0.064|      0.049|      0.012|      0.002|      0.005|      0.005|       0.008|       0.004|       0.007|      2.972|      0.672|      0.602|      0.119|      0.172|       0.195|       0.111|       0.057| 1.726|30.927| 1.682| 23.24| 1.304|115.598|7/4/2020 5:06|          22508|\n",
      "|RJ_6803_Abu_Road_...|   22506|        1|   EB Meter|          Before|      0.301|       0.42|      0.201|      0.164|         0.1|       0.091|       0.047|      4.129|      0.775|      0.317|      0.309|       0.06|       0.109|       0.038|       0.064|      0.054|      0.011|      0.002|      0.003|      0.005|       0.007|       0.005|       0.007|      3.048|      0.733|      0.609|       0.11|      0.174|       0.178|       0.102|       0.069| 2.181|31.204| 1.624| 22.34| 1.222|  103.5|7/4/2020 5:31|          22508|\n",
      "|RJ_6803_Abu_Road_...|   22506|        1|   EB Meter|          Before|       0.29|      0.406|      0.195|      0.159|       0.093|       0.064|       0.037|      4.553|      0.339|      0.257|      0.169|      0.172|       0.022|       0.063|       0.041|      0.058|      0.012|      0.003|      0.001|      0.009|       0.004|       0.003|       0.006|      3.442|      0.418|      0.524|      0.069|       0.25|        0.09|       0.049|       0.035| 1.823|30.437| 1.552|11.369| 0.361|101.648|7/4/2020 6:02|          22508|\n",
      "|RJ_6803_Abu_Road_...|   22506|        1|   EB Meter|          Before|      0.311|      0.436|      0.176|      0.165|       0.073|       0.051|       0.034|      4.224|      0.277|      0.264|      0.156|      0.184|       0.019|       0.059|       0.035|      0.052|       0.01|      0.004|      0.001|      0.006|       0.004|       0.004|       0.003|      3.473|      0.357|      0.594|      0.007|      0.199|       0.068|       0.073|       0.021| 1.411|32.764| 1.279|11.377| 1.107|138.634|7/4/2020 6:32|          22508|\n",
      "|RJ_6803_Abu_Road_...|   22506|        1|   EB Meter|          Before|      0.309|      0.441|      0.176|      0.164|       0.068|        0.05|       0.037|      4.622|      0.269|      0.261|      0.138|      0.175|       0.009|        0.06|       0.041|      0.056|      0.011|      0.004|      0.001|      0.006|       0.004|       0.003|       0.003|      3.599|      0.376|      0.596|      0.032|      0.219|       0.074|       0.078|       0.014| 1.328|32.209| 1.334| 9.905| 1.507|122.618|7/4/2020 6:50|          22508|\n",
      "|RJ_6803_Abu_Road_...|   22506|        1|   EB Meter|          Before|      0.309|      0.441|      0.176|      0.164|       0.068|        0.05|       0.037|      4.622|      0.269|      0.261|      0.138|      0.175|       0.009|        0.06|       0.041|      0.056|      0.011|      0.004|      0.001|      0.006|       0.004|       0.003|       0.003|      3.599|      0.376|      0.596|      0.032|      0.219|       0.074|       0.078|       0.014| 1.328|32.209| 1.334| 9.905| 1.507|122.618|7/4/2020 6:52|          22508|\n",
      "|RJ_6803_Abu_Road_...|   22506|        1|   EB Meter|          Before|      0.306|      0.432|      0.183|      0.166|       0.062|       0.057|       0.032|      4.631|      0.264|      0.243|      0.146|      0.175|       0.011|        0.06|       0.034|      0.057|      0.011|      0.004|      0.001|      0.006|       0.004|       0.003|       0.002|       3.61|      0.356|      0.568|      0.037|       0.21|       0.075|       0.086|       0.011| 0.689|34.293| 1.278|  9.64| 1.033|119.964|7/4/2020 7:15|          22508|\n",
      "|RJ_6803_Abu_Road_...|   22506|        1|   EB Meter|          Before|      0.239|      0.337|      0.143|      0.136|       0.044|       0.037|       0.023|        5.6|      0.194|      0.098|      0.077|      0.089|       0.054|       0.053|       0.039|      0.057|      0.012|      0.008|      0.003|      0.004|       0.002|       0.003|       0.002|      4.672|      0.139|       0.51|      0.199|      0.121|       0.007|        0.08|       0.028| 1.069|33.432| 1.103| 4.986| 0.838|113.385|7/4/2020 7:44|          22508|\n",
      "|RJ_6803_Abu_Road_...|   22506|        1|   EB Meter|          Before|      0.047|       0.06|      0.035|      0.038|       0.007|       0.013|       0.015|      6.003|      0.158|      0.101|      0.072|      0.087|       0.065|       0.052|       0.034|      0.059|      0.009|      0.007|      0.004|      0.006|       0.006|       0.004|       0.002|       4.92|      0.155|      0.503|      0.199|      0.126|       0.014|       0.087|       0.034| 0.723|41.956| 1.102|  4.16| 0.256|110.208|7/4/2020 8:16|          22508|\n",
      "|RJ_6803_Abu_Road_...|   22506|        1|   EB Meter|          Before|      0.051|       0.07|      0.039|      0.042|       0.003|       0.016|       0.016|      5.778|      0.195|      0.096|      0.082|      0.094|       0.067|       0.055|       0.034|      0.056|      0.011|      0.008|      0.004|      0.008|       0.004|       0.003|       0.002|      4.817|      0.128|      0.492|      0.208|      0.113|       0.044|       0.101|       0.025| 1.203|41.227| 0.973| 5.032|  1.61|120.748|7/4/2020 8:45|          22508|\n",
      "+--------------------+--------+---------+-----------+----------------+-----------+-----------+-----------+-----------+------------+------------+------------+-----------+-----------+-----------+-----------+-----------+------------+------------+------------+-----------+-----------+-----------+-----------+-----------+------------+------------+------------+-----------+-----------+-----------+-----------+-----------+------------+------------+------------+------+------+------+------+------+-------+-------------+---------------+\n",
      "only showing top 20 rows\n",
      "\n"
     ]
    }
   ],
   "source": [
    "## Renaming the Column.\n",
    "df_pyspark.withColumnRenamed('SiteName', 'ChangedSiteName').show()"
   ]
  },
  {
   "cell_type": "code",
   "execution_count": null,
   "metadata": {},
   "outputs": [],
   "source": []
  }
 ],
 "metadata": {
  "kernelspec": {
   "display_name": "Python 3",
   "language": "python",
   "name": "python3"
  },
  "language_info": {
   "codemirror_mode": {
    "name": "ipython",
    "version": 3
   },
   "file_extension": ".py",
   "mimetype": "text/x-python",
   "name": "python",
   "nbconvert_exporter": "python",
   "pygments_lexer": "ipython3",
   "version": "3.6.10"
  }
 },
 "nbformat": 4,
 "nbformat_minor": 4
}
